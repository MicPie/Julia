{
 "cells": [
  {
   "cell_type": "markdown",
   "metadata": {},
   "source": [
    "# Introduction"
   ]
  },
  {
   "cell_type": "markdown",
   "metadata": {
    "ExecuteTime": {
     "end_time": "2020-02-22T19:50:11.055000+01:00",
     "start_time": "2020-02-22T18:50:10.260Z"
    }
   },
   "source": [
    "This notebook is based on the [fast.ai v3 part 2 course \"02_fully_connected.ipynb\" notebook](https://github.com/fastai/course-v3/blob/master/nbs/dl2/02_fully_connected.ipynb) and the [Knet.jl documentation](https://denizyuret.github.io/Knet.jl/stable/).\n",
    "\n",
    "The goal is to build up all the building blocks from scratch to learn how everything is working."
   ]
  },
  {
   "cell_type": "markdown",
   "metadata": {},
   "source": [
    "# Imports"
   ]
  },
  {
   "cell_type": "code",
   "execution_count": 1,
   "metadata": {
    "ExecuteTime": {
     "end_time": "2020-03-02T18:58:04.022000+01:00",
     "start_time": "2020-03-02T17:57:50.165Z"
    }
   },
   "outputs": [],
   "source": [
    "using Knet\n",
    "using Statistics\n",
    "using Test\n",
    "using AutoGrad"
   ]
  },
  {
   "cell_type": "markdown",
   "metadata": {},
   "source": [
    "# Data"
   ]
  },
  {
   "cell_type": "markdown",
   "metadata": {},
   "source": [
    "## Data structures"
   ]
  },
  {
   "cell_type": "markdown",
   "metadata": {},
   "source": [
    "First, we setup two simple structures for data handling:\n",
    "* **dataset**: container for x and y data\n",
    "* **dataloader**: hold training and validation data"
   ]
  },
  {
   "cell_type": "code",
   "execution_count": 2,
   "metadata": {
    "ExecuteTime": {
     "end_time": "2020-03-02T18:58:07.798000+01:00",
     "start_time": "2020-03-02T17:57:50.186Z"
    }
   },
   "outputs": [],
   "source": [
    "struct dataset\n",
    "    x\n",
    "    y\n",
    "end"
   ]
  },
  {
   "cell_type": "code",
   "execution_count": 3,
   "metadata": {
    "ExecuteTime": {
     "end_time": "2020-03-02T18:58:07.922000+01:00",
     "start_time": "2020-03-02T17:57:50.198Z"
    }
   },
   "outputs": [],
   "source": [
    "### THIS NEEDS TO BE UPDATED TO SUPPORT ITERATION !!!\n",
    "struct dataloader\n",
    "    train\n",
    "    valid\n",
    "end"
   ]
  },
  {
   "cell_type": "markdown",
   "metadata": {},
   "source": [
    "##  MNIST data"
   ]
  },
  {
   "cell_type": "markdown",
   "metadata": {},
   "source": [
    "Next, we get the MNIST data with a Knet library helper function and create our own from scratch."
   ]
  },
  {
   "cell_type": "code",
   "execution_count": 4,
   "metadata": {
    "ExecuteTime": {
     "end_time": "2020-03-02T18:58:09.170000+01:00",
     "start_time": "2020-03-02T17:57:50.208Z"
    }
   },
   "outputs": [],
   "source": [
    "include(Knet.dir(\"data\",\"mnist.jl\"))"
   ]
  },
  {
   "cell_type": "code",
   "execution_count": 273,
   "metadata": {
    "ExecuteTime": {
     "end_time": "2020-03-03T20:57:23.083000+01:00",
     "start_time": "2020-03-03T19:57:23.056Z"
    }
   },
   "outputs": [],
   "source": [
    "mnist_dl_orig = dataloader(mnistdata()...);"
   ]
  },
  {
   "cell_type": "markdown",
   "metadata": {},
   "source": [
    "The Knet dataloader is already setup as can be seen below, but we will disassemble it and build it up again."
   ]
  },
  {
   "cell_type": "code",
   "execution_count": 6,
   "metadata": {
    "ExecuteTime": {
     "end_time": "2020-03-02T18:58:11.807000+01:00",
     "start_time": "2020-03-02T17:57:50.222Z"
    }
   },
   "outputs": [
    {
     "data": {
      "text/plain": [
       "(\"600-element Knet.Data{Tuple{KnetArray{Float32,4},Array{UInt8,1}}}\", \"100-element Knet.Data{Tuple{KnetArray{Float32,4},Array{UInt8,1}}}\")"
      ]
     },
     "execution_count": 6,
     "metadata": {},
     "output_type": "execute_result"
    }
   ],
   "source": [
    "summary.((mnist_dl_orig.train,mnist_dl_orig.valid))"
   ]
  },
  {
   "cell_type": "markdown",
   "metadata": {},
   "source": [
    "By going through our original Knet dataloader we concatenate our x and y data and put that into the train and valid dataset structure:"
   ]
  },
  {
   "cell_type": "code",
   "execution_count": 7,
   "metadata": {
    "ExecuteTime": {
     "end_time": "2020-03-02T18:58:17.034000+01:00",
     "start_time": "2020-03-02T17:57:50.228Z"
    }
   },
   "outputs": [],
   "source": [
    "mnist_ds_train = dataset(cat((x for (x,y) in mnist_dl_orig.train)..., dims=4),\n",
    "                         cat((y for (x,y) in mnist_dl_orig.train)..., dims=1));\n",
    "\n",
    "mnist_ds_valid = dataset(cat((x for (x,y) in mnist_dl_orig.valid)..., dims=4),\n",
    "                         cat((y for (x,y) in mnist_dl_orig.valid)..., dims=1));"
   ]
  },
  {
   "cell_type": "code",
   "execution_count": 8,
   "metadata": {
    "ExecuteTime": {
     "end_time": "2020-03-02T18:58:17.073000+01:00",
     "start_time": "2020-03-02T17:57:50.233Z"
    }
   },
   "outputs": [
    {
     "data": {
      "text/plain": [
       "(\"28×28×1×60000 KnetArray{Float32,4}\", \"60000-element Array{UInt8,1}\")"
      ]
     },
     "execution_count": 8,
     "metadata": {},
     "output_type": "execute_result"
    }
   ],
   "source": [
    "summary.((mnist_ds_train.x, mnist_ds_train.y))"
   ]
  },
  {
   "cell_type": "code",
   "execution_count": 9,
   "metadata": {
    "ExecuteTime": {
     "end_time": "2020-03-02T18:58:17.074000+01:00",
     "start_time": "2020-03-02T17:57:50.239Z"
    }
   },
   "outputs": [
    {
     "data": {
      "text/plain": [
       "(\"28×28×1×10000 KnetArray{Float32,4}\", \"10000-element Array{UInt8,1}\")"
      ]
     },
     "execution_count": 9,
     "metadata": {},
     "output_type": "execute_result"
    }
   ],
   "source": [
    "summary.((mnist_ds_valid.x, mnist_ds_valid.y))"
   ]
  },
  {
   "cell_type": "markdown",
   "metadata": {},
   "source": [
    "Now, we can put the data into our custom dataloader:"
   ]
  },
  {
   "cell_type": "code",
   "execution_count": 10,
   "metadata": {
    "ExecuteTime": {
     "end_time": "2020-03-02T18:58:17.076000+01:00",
     "start_time": "2020-03-02T17:57:50.246Z"
    }
   },
   "outputs": [],
   "source": [
    "mnist_dl = dataloader(mnist_ds_train, mnist_ds_valid);"
   ]
  },
  {
   "cell_type": "markdown",
   "metadata": {},
   "source": [
    "Finally, we test our dataloader for completeness:"
   ]
  },
  {
   "cell_type": "code",
   "execution_count": 11,
   "metadata": {
    "ExecuteTime": {
     "end_time": "2020-03-02T18:58:17.869000+01:00",
     "start_time": "2020-03-02T17:57:50.252Z"
    }
   },
   "outputs": [
    {
     "name": "stdout",
     "output_type": "stream",
     "text": [
      "\u001b[37m\u001b[1mTest Summary:    | \u001b[22m\u001b[39m\u001b[32m\u001b[1mPass  \u001b[22m\u001b[39m\u001b[36m\u001b[1mTotal\u001b[22m\u001b[39m\n",
      "Check MNIST data | \u001b[32m   4  \u001b[39m\u001b[36m    4\u001b[39m\n"
     ]
    }
   ],
   "source": [
    "@testset \"Check MNIST data\" begin\n",
    "    @testset \"Training data\" begin\n",
    "        @test size(mnist_dl.train.x) == (28,28,1,60000)\n",
    "        @test size(mnist_dl.train.y) == (60000,)\n",
    "    end\n",
    "    @testset \"Validation data\" begin\n",
    "        @test size(mnist_dl.valid.x) == (28,28,1,10000)\n",
    "        @test size(mnist_dl.valid.y) == (10000,)\n",
    "    end\n",
    "end;"
   ]
  },
  {
   "cell_type": "markdown",
   "metadata": {},
   "source": [
    "##  Data functions"
   ]
  },
  {
   "cell_type": "markdown",
   "metadata": {},
   "source": [
    "### Mean & variance"
   ]
  },
  {
   "cell_type": "markdown",
   "metadata": {
    "ExecuteTime": {
     "end_time": "2020-02-29T18:41:59.891000+01:00",
     "start_time": "2020-02-29T17:41:59.874Z"
    }
   },
   "source": [
    "Next, we create some simple function to get summary statistics on our data."
   ]
  },
  {
   "cell_type": "code",
   "execution_count": 12,
   "metadata": {
    "ExecuteTime": {
     "end_time": "2020-03-02T18:58:17.870000+01:00",
     "start_time": "2020-03-02T17:57:50.269Z"
    }
   },
   "outputs": [],
   "source": [
    "function get_stats(data)\n",
    "    d_mean = mean(data)\n",
    "    d_std = sqrt(var(data))\n",
    "    return d_mean, d_std\n",
    "end;"
   ]
  },
  {
   "cell_type": "markdown",
   "metadata": {
    "ExecuteTime": {
     "end_time": "2020-02-29T18:43:02.436000+01:00",
     "start_time": "2020-02-29T17:43:02.415Z"
    }
   },
   "source": [
    "We save our train x statistics for later."
   ]
  },
  {
   "cell_type": "code",
   "execution_count": 13,
   "metadata": {
    "ExecuteTime": {
     "end_time": "2020-03-02T18:58:18.745000+01:00",
     "start_time": "2020-03-02T17:57:50.275Z"
    }
   },
   "outputs": [
    {
     "data": {
      "text/plain": [
       "(0.13066033f0, 0.3081088f0)"
      ]
     },
     "execution_count": 13,
     "metadata": {},
     "output_type": "execute_result"
    }
   ],
   "source": [
    "train_ds_mean, train_ds_std = get_stats(mnist_dl.train.x)"
   ]
  },
  {
   "cell_type": "markdown",
   "metadata": {},
   "source": [
    "### Normalize"
   ]
  },
  {
   "cell_type": "markdown",
   "metadata": {},
   "source": [
    "Then, we define a normalization function for our data and test it."
   ]
  },
  {
   "cell_type": "code",
   "execution_count": 14,
   "metadata": {
    "ExecuteTime": {
     "end_time": "2020-03-02T18:58:18.746000+01:00",
     "start_time": "2020-03-02T17:57:50.289Z"
    }
   },
   "outputs": [],
   "source": [
    "function normalize(x, m, s)\n",
    "    (x.-m)./s\n",
    "end;"
   ]
  },
  {
   "cell_type": "code",
   "execution_count": 15,
   "metadata": {
    "ExecuteTime": {
     "end_time": "2020-03-02T18:58:18.757000+01:00",
     "start_time": "2020-03-02T17:57:50.299Z"
    }
   },
   "outputs": [],
   "source": [
    "mnist_train_ds_norm = normalize(mnist_dl.train.x, train_ds_mean, train_ds_std);"
   ]
  },
  {
   "cell_type": "code",
   "execution_count": 16,
   "metadata": {
    "ExecuteTime": {
     "end_time": "2020-03-02T18:58:18.764000+01:00",
     "start_time": "2020-03-02T17:57:50.310Z"
    }
   },
   "outputs": [
    {
     "data": {
      "text/plain": [
       "(3.3241324f-7, 1.0000026f0)"
      ]
     },
     "execution_count": 16,
     "metadata": {},
     "output_type": "execute_result"
    }
   ],
   "source": [
    "get_stats(mnist_train_ds_norm)"
   ]
  },
  {
   "cell_type": "code",
   "execution_count": 17,
   "metadata": {
    "ExecuteTime": {
     "end_time": "2020-03-02T18:58:18.890000+01:00",
     "start_time": "2020-03-02T17:57:50.319Z"
    }
   },
   "outputs": [
    {
     "name": "stdout",
     "output_type": "stream",
     "text": [
      "\u001b[37m\u001b[1mTest Summary:              | \u001b[22m\u001b[39m\u001b[32m\u001b[1mPass  \u001b[22m\u001b[39m\u001b[36m\u001b[1mTotal\u001b[22m\u001b[39m\n",
      "Test dataset normalization | \u001b[32m   2  \u001b[39m\u001b[36m    2\u001b[39m\n"
     ]
    }
   ],
   "source": [
    "@testset \"Test dataset normalization\" begin\n",
    "    m, s = get_stats(mnist_train_ds_norm)\n",
    "    @test m ≈ 0 atol=1e-3\n",
    "    @test s ≈ 1 atol=1e-3\n",
    "end;"
   ]
  },
  {
   "cell_type": "markdown",
   "metadata": {},
   "source": [
    "And we pack our tests into a function to check for zero mean and unit variance (\"zmuv\") to easily reuse it later for testing."
   ]
  },
  {
   "cell_type": "code",
   "execution_count": 18,
   "metadata": {
    "ExecuteTime": {
     "end_time": "2020-03-02T18:58:18.891000+01:00",
     "start_time": "2020-03-02T17:57:50.325Z"
    }
   },
   "outputs": [],
   "source": [
    "function test_zmuv(data, atol=1e-3)\n",
    "    m, s = get_stats(data)\n",
    "    @test m ≈ 0 atol=atol\n",
    "    @test s ≈ 1 atol=atol\n",
    "end;"
   ]
  },
  {
   "cell_type": "code",
   "execution_count": 19,
   "metadata": {
    "ExecuteTime": {
     "end_time": "2020-03-02T18:58:19.193000+01:00",
     "start_time": "2020-03-02T17:57:50.338Z"
    }
   },
   "outputs": [
    {
     "data": {
      "text/plain": [
       "\u001b[32m\u001b[1mTest Passed\u001b[22m\u001b[39m"
      ]
     },
     "execution_count": 19,
     "metadata": {},
     "output_type": "execute_result"
    }
   ],
   "source": [
    "test_zmuv(mnist_train_ds_norm)"
   ]
  },
  {
   "cell_type": "markdown",
   "metadata": {},
   "source": [
    "# Model building blocks"
   ]
  },
  {
   "cell_type": "markdown",
   "metadata": {},
   "source": [
    "## Knet helper functions"
   ]
  },
  {
   "cell_type": "markdown",
   "metadata": {},
   "source": [
    "We borrow the helper functions for datatype handling and parameter creation from the [Knet library](https://github.com/denizyuret/Knet.jl/blob/master/src/train.jl#L100):"
   ]
  },
  {
   "cell_type": "code",
   "execution_count": 20,
   "metadata": {
    "ExecuteTime": {
     "end_time": "2020-03-02T18:58:19.197000+01:00",
     "start_time": "2020-03-02T17:57:50.378Z"
    }
   },
   "outputs": [],
   "source": [
    "param(x::Union{Array,KnetArray}; atype=identity) = Param(atype(x))\n",
    "param(d...; init=xavier_uniform, atype=atype()) = Param(atype(init(d...)))\n",
    "param0(d...; atype=atype()) = param(d...; init=zeros, atype=atype)\n",
    "atype() = (gpu() >= 0 ? KnetArray{Float32} : Array{Float32});"
   ]
  },
  {
   "cell_type": "code",
   "execution_count": 21,
   "metadata": {
    "ExecuteTime": {
     "end_time": "2020-03-02T18:58:19.499000+01:00",
     "start_time": "2020-03-02T17:57:50.389Z"
    }
   },
   "outputs": [
    {
     "name": "stdout",
     "output_type": "stream",
     "text": [
      "\u001b[37m\u001b[1mTest Summary:              | \u001b[22m\u001b[39m\u001b[32m\u001b[1mPass  \u001b[22m\u001b[39m\u001b[36m\u001b[1mTotal\u001b[22m\u001b[39m\n",
      "Test Knet helper functions | \u001b[32m   4  \u001b[39m\u001b[36m    4\u001b[39m\n"
     ]
    }
   ],
   "source": [
    "@testset \"Test Knet helper functions\" begin\n",
    "    dims = rand(1:100,2)\n",
    "    @test typeof(atype()(undef, dims...)) == (gpu() >= 0 ? KnetArray{Float32,2} : Array{Float32,2})\n",
    "    @test typeof(param(dims...)) == Param{gpu() >= 0 ? KnetArray{Float32,2} : Array{Float32,2}}\n",
    "    @test typeof(param0(dims[1])) == Param{gpu() >= 0 ? KnetArray{Float32,1} : Array{Float32,1}}\n",
    "    @test typeof(param0(dims[2])) == Param{gpu() >= 0 ? KnetArray{Float32,1} : Array{Float32,1}}\n",
    "end;"
   ]
  },
  {
   "cell_type": "markdown",
   "metadata": {},
   "source": [
    "## Flatten function"
   ]
  },
  {
   "cell_type": "markdown",
   "metadata": {},
   "source": [
    "Because we look into a fully connected network first, we need a function that changes our input data from (28, 28, 1, x) to (784, x)."
   ]
  },
  {
   "cell_type": "code",
   "execution_count": 22,
   "metadata": {
    "ExecuteTime": {
     "end_time": "2020-03-02T18:58:19.503000+01:00",
     "start_time": "2020-03-02T17:57:50.398Z"
    }
   },
   "outputs": [],
   "source": [
    "flatten(x) = (reshape(x, (784,:)));"
   ]
  },
  {
   "cell_type": "code",
   "execution_count": 23,
   "metadata": {
    "ExecuteTime": {
     "end_time": "2020-03-02T18:58:19.624000+01:00",
     "start_time": "2020-03-02T17:57:50.403Z"
    }
   },
   "outputs": [
    {
     "name": "stdout",
     "output_type": "stream",
     "text": [
      "\u001b[37m\u001b[1mTest Summary:         | \u001b[22m\u001b[39m\u001b[32m\u001b[1mPass  \u001b[22m\u001b[39m\u001b[36m\u001b[1mTotal\u001b[22m\u001b[39m\n",
      "Test flatten function | \u001b[32m   3  \u001b[39m\u001b[36m    3\u001b[39m\n"
     ]
    }
   ],
   "source": [
    "@testset \"Test flatten function\" begin\n",
    "    for x in rand(1:10,3) # test 3x\n",
    "        @test size(flatten(randn(28,28,1,x))) == (784,x) \n",
    "    end\n",
    "end;"
   ]
  },
  {
   "cell_type": "markdown",
   "metadata": {},
   "source": [
    "## Linear"
   ]
  },
  {
   "cell_type": "markdown",
   "metadata": {},
   "source": [
    "We create our custom linear layer structure as show in the [linear model Knet tutorial](https://github.com/denizyuret/Knet.jl/blob/master/tutorial/30.lin.ipynb):"
   ]
  },
  {
   "cell_type": "code",
   "execution_count": 24,
   "metadata": {
    "ExecuteTime": {
     "end_time": "2020-03-02T18:58:19.625000+01:00",
     "start_time": "2020-03-02T17:57:50.412Z"
    }
   },
   "outputs": [],
   "source": [
    "struct Linear_c; w; b; end"
   ]
  },
  {
   "cell_type": "markdown",
   "metadata": {},
   "source": [
    "and its creation function with the possibility to  hand over custom initialization functions:"
   ]
  },
  {
   "cell_type": "code",
   "execution_count": 25,
   "metadata": {
    "ExecuteTime": {
     "end_time": "2020-03-02T18:58:19.625000+01:00",
     "start_time": "2020-03-02T17:57:50.419Z"
    }
   },
   "outputs": [],
   "source": [
    "#Linear_c(i::Int,o::Int) = Linear_c(param((o,i)), param0(o));"
   ]
  },
  {
   "cell_type": "code",
   "execution_count": 26,
   "metadata": {
    "ExecuteTime": {
     "end_time": "2020-03-02T18:58:19.627000+01:00",
     "start_time": "2020-03-02T17:57:50.428Z"
    }
   },
   "outputs": [],
   "source": [
    "Linear_c(i::Int,o::Int;init=xavier_uniform) = Linear_c(param(o,i;init=init), param0(o));"
   ]
  },
  {
   "cell_type": "markdown",
   "metadata": {},
   "source": [
    "and then we define the forward function of our linear layer:"
   ]
  },
  {
   "cell_type": "code",
   "execution_count": 27,
   "metadata": {
    "ExecuteTime": {
     "end_time": "2020-03-02T18:58:19.628000+01:00",
     "start_time": "2020-03-02T17:57:50.436Z"
    }
   },
   "outputs": [],
   "source": [
    "(m::Linear_c)(x) = m.w * x .+ m.b"
   ]
  },
  {
   "cell_type": "markdown",
   "metadata": {},
   "source": [
    "Then, we can check the methodes of Linear_c and which gets called with two integers."
   ]
  },
  {
   "cell_type": "code",
   "execution_count": 28,
   "metadata": {
    "ExecuteTime": {
     "end_time": "2020-03-02T18:58:20.247000+01:00",
     "start_time": "2020-03-02T17:57:50.448Z"
    }
   },
   "outputs": [
    {
     "data": {
      "text/html": [
       "2 methods for generic function <b>Type</b>:<ul><li> Linear_c(i::<b>Int64</b>, o::<b>Int64</b>; <i>init</i>) in Main at In[26]:1</li> <li> Linear_c(w, b) in Main at In[24]:1</li> </ul>"
      ],
      "text/plain": [
       "# 2 methods for generic function \"(::Type)\":\n",
       "[1] Linear_c(i::Int64, o::Int64; init) in Main at In[26]:1\n",
       "[2] Linear_c(w, b) in Main at In[24]:1"
      ]
     },
     "execution_count": 28,
     "metadata": {},
     "output_type": "execute_result"
    }
   ],
   "source": [
    "methods(Linear_c)"
   ]
  },
  {
   "cell_type": "code",
   "execution_count": 29,
   "metadata": {
    "ExecuteTime": {
     "end_time": "2020-03-02T18:58:20.644000+01:00",
     "start_time": "2020-03-02T17:57:50.464Z"
    }
   },
   "outputs": [
    {
     "data": {
      "text/html": [
       "Linear_c(i::<b>Int64</b>, o::<b>Int64</b>) in Main at In[26]:1"
      ],
      "text/plain": [
       "Linear_c(i::Int64, o::Int64) in Main at In[26]:1"
      ]
     },
     "execution_count": 29,
     "metadata": {},
     "output_type": "execute_result"
    }
   ],
   "source": [
    "@which Linear_c(16,32)"
   ]
  },
  {
   "cell_type": "code",
   "execution_count": 30,
   "metadata": {
    "ExecuteTime": {
     "end_time": "2020-03-02T18:58:20.661000+01:00",
     "start_time": "2020-03-02T17:57:50.470Z"
    }
   },
   "outputs": [
    {
     "data": {
      "text/html": [
       "(::<b>getfield(Core, Symbol(\"#kw#Type\"))</b>)(::<b>Any</b>, ::<b>Type{Linear_c}</b>, i::<b>Int64</b>, o::<b>Int64</b>) in Main"
      ],
      "text/plain": [
       "(::getfield(Core, Symbol(\"#kw#Type\")))(::Any, ::Type{Linear_c}, i::Int64, o::Int64) in Main"
      ]
     },
     "execution_count": 30,
     "metadata": {},
     "output_type": "execute_result"
    }
   ],
   "source": [
    "@which Linear_c(16,32;init=xavier_normal) # why does the output look like this?"
   ]
  },
  {
   "cell_type": "code",
   "execution_count": 31,
   "metadata": {
    "ExecuteTime": {
     "end_time": "2020-03-02T18:58:21.250000+01:00",
     "start_time": "2020-03-02T17:57:50.539Z"
    }
   },
   "outputs": [
    {
     "name": "stdout",
     "output_type": "stream",
     "text": [
      "\u001b[37m\u001b[1mTest Summary:     | \u001b[22m\u001b[39m\u001b[32m\u001b[1mPass  \u001b[22m\u001b[39m\u001b[36m\u001b[1mTotal\u001b[22m\u001b[39m\n",
      "Test linear layer | \u001b[32m   1  \u001b[39m\u001b[36m    1\u001b[39m\n"
     ]
    }
   ],
   "source": [
    "@testset \"Test linear layer\" begin\n",
    "    lin = Linear_c(4,2) # create simple linear layer\n",
    "    lin.w.value = hcat(atype()(1.:1.:4.),atype()(5.:1.:8.))' # can this be done easier?\n",
    "    lin.b.value = atype()(fill(1.,2))\n",
    "    x = atype()(1.:1.:4.)\n",
    "    @test lin(x) == [31,71]\n",
    "end;"
   ]
  },
  {
   "cell_type": "markdown",
   "metadata": {},
   "source": [
    "## ReLU"
   ]
  },
  {
   "cell_type": "markdown",
   "metadata": {},
   "source": [
    "The ReLU function can be implemented simply by:"
   ]
  },
  {
   "cell_type": "code",
   "execution_count": 32,
   "metadata": {
    "ExecuteTime": {
     "end_time": "2020-03-02T18:58:21.250000+01:00",
     "start_time": "2020-03-02T17:57:50.550Z"
    }
   },
   "outputs": [],
   "source": [
    "relu_c(x) = max.(x,0);"
   ]
  },
  {
   "cell_type": "code",
   "execution_count": 33,
   "metadata": {
    "ExecuteTime": {
     "end_time": "2020-03-02T18:58:21.295000+01:00",
     "start_time": "2020-03-02T17:57:50.556Z"
    }
   },
   "outputs": [
    {
     "name": "stdout",
     "output_type": "stream",
     "text": [
      "\u001b[37m\u001b[1mTest Summary:      | \u001b[22m\u001b[39m\u001b[32m\u001b[1mPass  \u001b[22m\u001b[39m\u001b[36m\u001b[1mTotal\u001b[22m\u001b[39m\n",
      "Test ReLU function | \u001b[32m   1  \u001b[39m\u001b[36m    1\u001b[39m\n"
     ]
    }
   ],
   "source": [
    "@testset \"Test ReLU function\" begin\n",
    "    @test relu_c(atype()([-1.,2.,-3.])) == [0,2,0]\n",
    "end;"
   ]
  },
  {
   "cell_type": "markdown",
   "metadata": {},
   "source": [
    "## Model setup"
   ]
  },
  {
   "cell_type": "markdown",
   "metadata": {},
   "source": [
    "In order to setup our model we will define a chain of layers structure like shown in the [Knet CNN tutorial](https://github.com/denizyuret/Knet.jl/blob/master/tutorial/50.cnn.ipynb):"
   ]
  },
  {
   "cell_type": "code",
   "execution_count": 34,
   "metadata": {
    "ExecuteTime": {
     "end_time": "2020-03-02T18:58:21.297000+01:00",
     "start_time": "2020-03-02T17:57:50.563Z"
    }
   },
   "outputs": [],
   "source": [
    "struct Chain\n",
    "    layers\n",
    "    Chain(layers...) = new(layers)\n",
    "end"
   ]
  },
  {
   "cell_type": "markdown",
   "metadata": {},
   "source": [
    "And define that it goes through each layer when it gets an input:"
   ]
  },
  {
   "cell_type": "code",
   "execution_count": 35,
   "metadata": {
    "ExecuteTime": {
     "end_time": "2020-03-02T18:58:21.298000+01:00",
     "start_time": "2020-03-02T17:57:50.570Z"
    }
   },
   "outputs": [],
   "source": [
    "(c::Chain)(x) = (for l in c.layers; x = l(x); end; x)"
   ]
  },
  {
   "cell_type": "markdown",
   "metadata": {},
   "source": [
    "We also implement a function to easily get a fresh model with a specific initialization:"
   ]
  },
  {
   "cell_type": "code",
   "execution_count": 156,
   "metadata": {
    "ExecuteTime": {
     "end_time": "2020-03-02T19:36:23.151000+01:00",
     "start_time": "2020-03-02T18:36:23.136Z"
    }
   },
   "outputs": [],
   "source": [
    "function get_model(;init=xavier_normal)\n",
    "    return model = Chain(flatten, Linear_c(784,50;init=init), relu_c, Linear_c(50,10;init=init), relu_c)\n",
    "end;"
   ]
  },
  {
   "cell_type": "code",
   "execution_count": 37,
   "metadata": {
    "ExecuteTime": {
     "end_time": "2020-03-02T18:58:21.691000+01:00",
     "start_time": "2020-03-02T17:57:50.585Z"
    }
   },
   "outputs": [
    {
     "name": "stdout",
     "output_type": "stream",
     "text": [
      "\u001b[37m\u001b[1mTest Summary:                   | \u001b[22m\u001b[39m\u001b[32m\u001b[1mPass  \u001b[22m\u001b[39m\u001b[36m\u001b[1mTotal\u001b[22m\u001b[39m\n",
      "Test correct model output shape | \u001b[32m   1  \u001b[39m\u001b[36m    1\u001b[39m\n"
     ]
    }
   ],
   "source": [
    "@testset \"Test correct model output shape\" begin\n",
    "    model_c = get_model()\n",
    "    @test size(model_c(mnist_dl.train.x)) == (10,60000)\n",
    "end;"
   ]
  },
  {
   "cell_type": "markdown",
   "metadata": {},
   "source": [
    "## Model initialization"
   ]
  },
  {
   "cell_type": "markdown",
   "metadata": {},
   "source": [
    "This part is based on the [fastai v3 part 2 course notebook on initialization](https://github.com/fastai/course-v3/blob/master/nbs/dl2/02b_initializing.ipynb)."
   ]
  },
  {
   "cell_type": "markdown",
   "metadata": {},
   "source": [
    "### Zero mean unit variance"
   ]
  },
  {
   "cell_type": "markdown",
   "metadata": {},
   "source": [
    "If we use a normal distribuiton with zero mean and unit variance (\"zmuv\") we get infinity after a few matrix multiplications:"
   ]
  },
  {
   "cell_type": "code",
   "execution_count": 38,
   "metadata": {
    "ExecuteTime": {
     "end_time": "2020-03-02T18:58:23.111000+01:00",
     "start_time": "2020-03-02T17:57:50.654Z"
    }
   },
   "outputs": [
    {
     "data": {
      "text/plain": [
       "check_mm_stats (generic function with 1 method)"
      ]
     },
     "execution_count": 38,
     "metadata": {},
     "output_type": "execute_result"
    }
   ],
   "source": [
    "function check_mm_stats(w,x;n=100)\n",
    "    for i in 1:n\n",
    "        x = w * x # this resembles the matrix multiplication in our linear layer\n",
    "        println(i, get_stats(x))\n",
    "        if isnan(sum(x)) # a better way to check for NaN in Julia?\n",
    "            break\n",
    "        end\n",
    "    end\n",
    "end"
   ]
  },
  {
   "cell_type": "code",
   "execution_count": 39,
   "metadata": {
    "ExecuteTime": {
     "end_time": "2020-03-02T18:58:22.223000+01:00",
     "start_time": "2020-03-02T17:57:50.602Z"
    },
    "collapsed": true
   },
   "outputs": [
    {
     "name": "stdout",
     "output_type": "stream",
     "text": [
      "1(-0.8880974f0, 21.919664f0)\n",
      "2(10.800011f0, 502.33023f0)\n",
      "3(164.73192f0, 11663.487f0)\n",
      "4(8193.326f0, 268020.53f0)\n",
      "5(164598.72f0, 5.9489035f6)\n",
      "6(-1.1952992f6, 1.2947917f8)\n",
      "7(-1.6434246f7, 2.8907553f9)\n",
      "8(6.949123f9, 6.7945808f10)\n",
      "9(6.792001f10, 1.5690845f12)\n",
      "10(5.606563f11, 3.3972894f13)\n",
      "11(5.913527f13, 7.1514474f14)\n",
      "12(-3.8653397f14, 1.5622399f16)\n",
      "13(2.9918182f16, 3.65233f17)\n",
      "14(1.931122f17, Inf32)\n",
      "15(7.707326f18, Inf32)\n",
      "16(-2.7277535f19, Inf32)\n",
      "17(2.2705316f21, Inf32)\n",
      "18(2.9920891f23, Inf32)\n",
      "19(2.1653806f24, Inf32)\n",
      "20(4.9999434f25, Inf32)\n",
      "21(5.023884f26, Inf32)\n",
      "22(-1.3973304f27, Inf32)\n",
      "23(6.1725947f29, Inf32)\n",
      "24(-4.100791f30, Inf32)\n",
      "25(7.4782933f31, Inf32)\n",
      "26(3.3923973f33, Inf32)\n",
      "27(-6.8517203f34, Inf32)\n",
      "28(NaN32, NaN32)\n"
     ]
    }
   ],
   "source": [
    "check_mm_stats(randn(Float32, (512,512)), randn(Float32, (512)))"
   ]
  },
  {
   "cell_type": "markdown",
   "metadata": {
    "ExecuteTime": {
     "end_time": "2020-03-01T15:46:27.988000+01:00",
     "start_time": "2020-03-01T14:46:27.969Z"
    }
   },
   "source": [
    "Note: We can also check for not a number (\"NaN\") with inequal:"
   ]
  },
  {
   "cell_type": "code",
   "execution_count": null,
   "metadata": {
    "ExecuteTime": {
     "end_time": "2020-03-02T18:58:22.522000+01:00",
     "start_time": "2020-03-02T17:57:50.608Z"
    }
   },
   "outputs": [],
   "source": [
    "sum(a) != sum(a)"
   ]
  },
  {
   "cell_type": "markdown",
   "metadata": {},
   "source": [
    "### Xavier Glorot initialization"
   ]
  },
  {
   "cell_type": "markdown",
   "metadata": {
    "ExecuteTime": {
     "end_time": "2020-03-01T15:52:19.260000+01:00",
     "start_time": "2020-03-01T14:52:19.246Z"
    }
   },
   "source": [
    "The Xavier Glorot initialization scales the weights by `1/sqrt(input_dim)`. Why we will see first with an example that is not using the rescaled weights:"
   ]
  },
  {
   "cell_type": "code",
   "execution_count": 41,
   "metadata": {
    "ExecuteTime": {
     "end_time": "2020-03-02T18:58:22.812000+01:00",
     "start_time": "2020-03-02T17:57:50.615Z"
    },
    "collapsed": true
   },
   "outputs": [
    {
     "name": "stdout",
     "output_type": "stream",
     "text": [
      "1(-0.03128440527211984, 0.9785400099795301)\n",
      "2(0.062482564351289384, 0.9549475212082945)\n",
      "3(0.0481612188786319, 0.897197185466266)\n",
      "4(-0.007637851584996487, 0.8614452382368822)\n",
      "5(0.01940059081517396, 0.8781310017838251)\n",
      "6(0.02907944766253427, 0.8601837807772011)\n",
      "7(-0.040974408407286486, 0.907097594229379)\n",
      "8(0.010406160384609326, 0.9092702193102259)\n",
      "9(0.04064044307602728, 0.9253791546453949)\n",
      "10(-0.012968853651001162, 0.9695259501085394)\n",
      "11(0.008465413304944758, 1.0170732557773408)\n",
      "12(0.01677841115613776, 1.0164794541532973)\n",
      "13(0.0005815771015007525, 1.1024772594993877)\n",
      "14(-0.029632750084465632, 1.133589763946688)\n",
      "15(-0.003811471577445865, 1.1089892330208575)\n",
      "16(-0.017838824738245485, 1.110239180125311)\n",
      "17(0.011163569469248829, 1.1481655253111993)\n",
      "18(0.02303792451940852, 1.184842686489866)\n",
      "19(0.03407754855491532, 1.1810687393628223)\n",
      "20(0.01451591977301915, 1.2007394076397606)\n",
      "21(-0.008970411758448052, 1.2263296435290871)\n",
      "22(-0.07677806514846948, 1.2510283767254162)\n",
      "23(0.007374703220732181, 1.183433635195937)\n",
      "24(0.015469381344854751, 1.2084550636515603)\n",
      "25(0.017301427802667295, 1.164281495014865)\n",
      "26(0.05234070413844331, 1.1823001265407937)\n",
      "27(-0.0497277435238028, 1.1937344385511004)\n",
      "28(-0.10537196443445256, 1.1799043101595872)\n",
      "29(-0.007550600745967173, 1.176737717971628)\n",
      "30(-0.023672348414506952, 1.1999475213896384)\n",
      "31(0.08963641214672577, 1.2316943821018047)\n",
      "32(-0.022767623615163938, 1.2594006423120339)\n",
      "33(-0.021001832992776512, 1.2845962244075548)\n",
      "34(0.0015896383013153216, 1.3513719727053433)\n",
      "35(-0.04262013044397538, 1.340012148011113)\n",
      "36(0.04245932636998993, 1.3354096356965188)\n",
      "37(-0.003803560847215293, 1.338401115090229)\n",
      "38(-0.05121662215819445, 1.35475229261384)\n",
      "39(0.011586027041282492, 1.3622065096086013)\n",
      "40(-0.04707826069170852, 1.4009290292260712)\n",
      "41(0.025664577427453227, 1.4984382037692758)\n",
      "42(0.010119289623061013, 1.576736020355951)\n",
      "43(0.06748912975826271, 1.6260056940037166)\n",
      "44(-0.013748237930712441, 1.6593201343569826)\n",
      "45(-0.0996984700877524, 1.6924890546620113)\n",
      "46(0.03684091578453941, 1.604479324563142)\n",
      "47(-0.03626194733296504, 1.6222583349488846)\n",
      "48(0.057954406166780034, 1.6400610038110068)\n",
      "49(0.04567012281039793, 1.6975605799110018)\n",
      "50(-0.027185447640187096, 1.7769462054667182)\n",
      "51(-0.020417351337409347, 1.821190094845112)\n",
      "52(-0.05929338519655639, 1.9064317181679804)\n",
      "53(0.020847336495996408, 1.9609025518236771)\n",
      "54(0.02001913402323242, 2.0993131014522595)\n",
      "55(-0.020556196810299705, 2.141806419530738)\n",
      "56(0.0849392342907598, 2.151708307952372)\n",
      "57(-0.051830845166218595, 2.1898182791222887)\n",
      "58(-0.03560515990256414, 2.2533477152721977)\n",
      "59(0.053069940287224976, 2.2907738946185883)\n",
      "60(0.03077934149443582, 2.341983424359605)\n",
      "61(0.016744469866081923, 2.380861053737286)\n",
      "62(-0.0297643540777921, 2.4638685475628055)\n",
      "63(-0.011364740260757344, 2.585720724210071)\n",
      "64(-0.07079656778331564, 2.5947444556371972)\n",
      "65(0.038165124056139775, 2.7115750605816173)\n",
      "66(0.14343423217786824, 2.8496039962434767)\n",
      "67(-0.04863485124466016, 2.788480399513887)\n",
      "68(-0.06316031828193515, 2.8779309448315074)\n",
      "69(-0.02177829697684365, 2.865967371710834)\n",
      "70(0.006005771496992035, 3.095394799946761)\n",
      "71(0.05370247801841435, 3.1613295836102857)\n",
      "72(0.05629968738409942, 3.3139231723621205)\n",
      "73(0.01800415127437284, 3.4539593506769153)\n",
      "74(-0.09756339657445647, 3.4816829606533513)\n",
      "75(-0.006615110350393595, 3.6732145246002323)\n",
      "76(0.10013780319167073, 3.77175350681551)\n",
      "77(-0.027585209905858644, 3.945250415886249)\n",
      "78(-0.038688655678927195, 4.1133996003247155)\n",
      "79(0.07267458896479839, 4.20938230452923)\n",
      "80(-0.027311296114221395, 4.311995799941224)\n",
      "81(-0.06823079752859591, 4.499158633646504)\n",
      "82(0.08656972535769755, 4.587875906841248)\n",
      "83(0.016391463623275315, 4.834030604308349)\n",
      "84(-0.054989067230256886, 4.910049512664901)\n",
      "85(0.039591148962402754, 4.960541806431559)\n",
      "86(0.028106378007444976, 5.100647029424035)\n",
      "87(-0.09963923848295854, 5.266220257841467)\n",
      "88(-0.015557303976069092, 5.585342435796356)\n",
      "89(0.16614471267360356, 5.7544732759882375)\n",
      "90(-0.03879551573647005, 5.866704520640865)\n",
      "91(-0.07324885984831857, 6.245227250136961)\n",
      "92(0.0788743079465896, 6.256477674391533)\n",
      "93(-0.061919239866152845, 6.576228659967505)\n",
      "94(-0.05928025329023779, 6.852351234602334)\n",
      "95(0.10116145574448648, 7.0273020824106185)\n",
      "96(0.11715385700999575, 7.3559310003136265)\n",
      "97(-0.11727738583791428, 7.369177865763291)\n",
      "98(-0.08806701047863101, 7.817349809045162)\n",
      "99(0.1527169182634204, 8.001390381681533)\n",
      "100(-0.14936380716934292, 8.321757939595209)\n"
     ]
    }
   ],
   "source": [
    "check_mm_stats(randn(Float32, (512,512))/sqrt(512), randn(Float32, (512)))"
   ]
  },
  {
   "cell_type": "markdown",
   "metadata": {},
   "source": [
    "This also works with the Xavier Glorot initialization functions that come with Knet:"
   ]
  },
  {
   "cell_type": "code",
   "execution_count": 42,
   "metadata": {
    "ExecuteTime": {
     "end_time": "2020-03-02T18:58:22.827000+01:00",
     "start_time": "2020-03-02T17:57:50.622Z"
    },
    "collapsed": true
   },
   "outputs": [
    {
     "name": "stdout",
     "output_type": "stream",
     "text": [
      "1(-0.025764756214730098, 1.010365641103227)\n",
      "2(-0.016510672247334893, 1.042731301502906)\n",
      "3(0.07053541933821068, 1.0187607752633279)\n",
      "4(0.04026334702784537, 1.025618062803471)\n",
      "5(0.035956734763293016, 1.063607671170404)\n",
      "6(-0.10194041706101799, 1.00667690681816)\n",
      "7(-0.04064300263478686, 0.9570560552958817)\n",
      "8(-0.03268762703511828, 0.9851841596286874)\n",
      "9(0.004810227598166334, 0.9530903967575174)\n",
      "10(0.02014791169552281, 0.9365707797325832)\n",
      "11(0.10223101924053843, 0.9336582276873219)\n",
      "12(-0.0025316407980058298, 0.9038199316402679)\n",
      "13(0.02479400765447818, 0.9087256432560729)\n",
      "14(0.013034428801039251, 0.9122329308100718)\n",
      "15(-0.014545509081038873, 0.9046908392713527)\n",
      "16(0.031570572995641685, 0.8961197561106242)\n",
      "17(-0.03964315245440956, 0.8995107916422198)\n",
      "18(-0.015570348654177564, 0.8833648727429358)\n",
      "19(0.00894669550701821, 0.8485627275007369)\n",
      "20(-0.04180286678714634, 0.8093296806658057)\n",
      "21(-0.013149888477411107, 0.7985905700114407)\n",
      "22(0.02007755778078706, 0.8161308405103112)\n",
      "23(0.0441146114730565, 0.7994805312460754)\n",
      "24(0.011382744363020232, 0.8071833464130251)\n",
      "25(-0.05557648571762078, 0.8219054608236015)\n",
      "26(0.0509029904786943, 0.8308285283315899)\n",
      "27(-0.004497480126973336, 0.8298946469405983)\n",
      "28(-0.014218944239996728, 0.834704124958125)\n",
      "29(-0.042468740588200375, 0.8202208730035024)\n",
      "30(0.042730792160580844, 0.8063185732693048)\n",
      "31(-0.03133539694940387, 0.8086829094208217)\n",
      "32(-0.012732940886851453, 0.7703011725572472)\n",
      "33(-0.008081417219304422, 0.7537914179687863)\n",
      "34(0.01976562630579013, 0.7700977427617672)\n",
      "35(0.005067237087313194, 0.7714536898263873)\n",
      "36(-0.05620333339808719, 0.7722541114194337)\n",
      "37(0.07619641080297054, 0.7759892097668744)\n",
      "38(-0.01056372083967232, 0.7394712113691164)\n",
      "39(-0.01852016874719786, 0.7150935072739608)\n",
      "40(0.045258729472524954, 0.6909877518360994)\n",
      "41(0.02045389291326935, 0.7003699985401256)\n",
      "42(0.006136483177814445, 0.7264582703475834)\n",
      "43(-0.020578378977185598, 0.7021932892145739)\n",
      "44(-0.02252185197436675, 0.6827344411328088)\n",
      "45(0.029330165138041948, 0.6915840669877628)\n",
      "46(-0.009563115187851379, 0.6698440050099572)\n",
      "47(-0.016165489119016194, 0.6669743083053143)\n",
      "48(0.03315526388665077, 0.6716326211227293)\n",
      "49(0.007944271500461167, 0.6806964237183446)\n",
      "50(-0.046612603706798816, 0.6925095322718715)\n",
      "51(0.04706026567223037, 0.7081188776097289)\n",
      "52(-0.020634686821656454, 0.6673983967599748)\n",
      "53(0.014130289966912445, 0.6722978764010222)\n",
      "54(0.009428934491631156, 0.687869844060888)\n",
      "55(-0.015908543469593518, 0.6757089855192969)\n",
      "56(0.03936819565805804, 0.6860153161800507)\n",
      "57(-0.04041322559580449, 0.6839376411995793)\n",
      "58(-0.012848529484205996, 0.6885657383415617)\n",
      "59(0.034371823868480846, 0.6954635815660888)\n",
      "60(-0.00402245709692239, 0.6675675483814674)\n",
      "61(-0.0037003148499105366, 0.636924523767976)\n",
      "62(0.004072674590263067, 0.654341642175321)\n",
      "63(-0.002540271796281552, 0.6468262016880985)\n",
      "64(0.011762675202577894, 0.6344155551716566)\n",
      "65(-0.005601609850039022, 0.6371874435905035)\n",
      "66(-0.00841281039366527, 0.6455709565121944)\n",
      "67(0.01910246182197958, 0.6509138860052708)\n",
      "68(-0.022885568173184215, 0.6198954149333675)\n",
      "69(-0.015397351736101192, 0.603415460508475)\n",
      "70(0.0254443008292627, 0.5876146653302782)\n",
      "71(-0.0182489428252318, 0.5935144518402161)\n",
      "72(0.020373363042246993, 0.575545637035055)\n",
      "73(0.006670367338329282, 0.5798649060165377)\n",
      "74(-0.0008945962728643282, 0.5952145263004279)\n",
      "75(0.015675777391990536, 0.5823436797560196)\n",
      "76(-0.03456254542020765, 0.5812265627203174)\n",
      "77(0.024943742365710994, 0.5936272723712814)\n",
      "78(0.01745144938250733, 0.6006570450300373)\n",
      "79(0.005015612832237376, 0.6217594520811366)\n",
      "80(0.015103050503185646, 0.6096713063414991)\n",
      "81(-0.005321599696812422, 0.6006112936015652)\n",
      "82(-0.027062435538107745, 0.6418114524927077)\n",
      "83(0.0018699432296888135, 0.6279975059150097)\n",
      "84(-0.016365592707373488, 0.6107498493892144)\n",
      "85(0.021617579094637095, 0.6343764483486248)\n",
      "86(0.01054593701285635, 0.664299006187023)\n",
      "87(-0.005413056038296173, 0.679612539478088)\n",
      "88(0.020288689454237858, 0.6688819432504522)\n",
      "89(-0.015251030523312708, 0.6602842134890443)\n",
      "90(-0.01926859443858403, 0.669464953459307)\n",
      "91(0.030700875885935366, 0.6674392127121699)\n",
      "92(-0.002002590094083996, 0.6564437099736541)\n",
      "93(0.02256253593350607, 0.6661306417092195)\n",
      "94(0.0133968023275461, 0.694529619497699)\n",
      "95(-0.024824410806536957, 0.7084405648085276)\n",
      "96(0.014934945461893343, 0.7013276583698146)\n",
      "97(-0.02658175117646423, 0.7128195519086554)\n",
      "98(-0.003538792856019206, 0.7421790120343376)\n",
      "99(0.029372661536126006, 0.7655738416617209)\n",
      "100(-0.02362405187917501, 0.7450820080578857)\n"
     ]
    }
   ],
   "source": [
    "check_mm_stats(xavier_normal(512,512), randn(Float32, (512)))"
   ]
  },
  {
   "cell_type": "code",
   "execution_count": 43,
   "metadata": {
    "ExecuteTime": {
     "end_time": "2020-03-02T18:58:22.827000+01:00",
     "start_time": "2020-03-02T17:57:50.627Z"
    }
   },
   "outputs": [],
   "source": [
    "#check_mm_stats(xavier_uniform(512,512), randn(Float32, (512)))"
   ]
  },
  {
   "cell_type": "markdown",
   "metadata": {},
   "source": [
    "### Kaiming He initialization"
   ]
  },
  {
   "cell_type": "markdown",
   "metadata": {},
   "source": [
    "If the ReLU activation is used in a network it is better to use the Kaiming He initialization which accounts for that.\n",
    "\n",
    "The implemented simple version below is based on the [PyTorch implementation](https://pytorch.org/docs/stable/nn.init.html#torch.nn.init.xavier_normal_) and the implementation of the Xavier Glorot initialization from a [Knet tutorial]():\n",
    "```\n",
    "xavier(o,i) = (s = sqrt(2/(i+o)); 2s .* rand(o,i) .- s)\n",
    "```\n",
    "(This version does not account for receptive field sizes, see [PyTorch implementation code](https://pytorch.org/docs/stable/_modules/torch/nn/init.html#xavier_normal_).)"
   ]
  },
  {
   "cell_type": "code",
   "execution_count": 44,
   "metadata": {
    "ExecuteTime": {
     "end_time": "2020-03-02T18:58:22.942000+01:00",
     "start_time": "2020-03-02T17:57:50.635Z"
    }
   },
   "outputs": [
    {
     "data": {
      "text/plain": [
       "he_normal (generic function with 1 method)"
      ]
     },
     "execution_count": 44,
     "metadata": {},
     "output_type": "execute_result"
    }
   ],
   "source": [
    "he_normal(o::Int,i::Int) = (b = sqrt(2/(i+o)); randn(o,i)*b)"
   ]
  },
  {
   "cell_type": "code",
   "execution_count": 45,
   "metadata": {
    "ExecuteTime": {
     "end_time": "2020-03-02T18:58:22.994000+01:00",
     "start_time": "2020-03-02T17:57:50.643Z"
    },
    "collapsed": true
   },
   "outputs": [
    {
     "name": "stdout",
     "output_type": "stream",
     "text": [
      "1(-0.0006492275970580106, 0.9983577168520512)\n",
      "2(-0.06287906861338996, 1.0304645527581902)\n",
      "3(0.02704631342697731, 1.034926733052963)\n",
      "4(-0.07850524147808256, 1.0316022692658526)\n",
      "5(0.03238308405560818, 1.0312478549789863)\n",
      "6(-0.02594280233487835, 0.9828517398988978)\n",
      "7(-0.05657203544481125, 0.9155525786378651)\n",
      "8(0.06508963032276632, 0.940677072682043)\n",
      "9(0.05575416547666757, 0.9691694048448378)\n",
      "10(-0.03085558250163454, 0.9930964770119972)\n",
      "11(-0.057211790192234206, 0.950263062597301)\n",
      "12(-0.0023962580708100723, 0.8962698644531173)\n",
      "13(0.061895259869711845, 0.8639441363972277)\n",
      "14(0.03314479323749496, 0.8137855376392461)\n",
      "15(-0.04404186704225108, 0.817127236608736)\n",
      "16(-0.09783040161725179, 0.8128496295763988)\n",
      "17(-0.018847339186553062, 0.7699102999619977)\n",
      "18(0.017600189639281182, 0.7998207975395049)\n",
      "19(0.0805317180472713, 0.7867505364884475)\n",
      "20(0.008261247006206956, 0.7898148361088396)\n",
      "21(0.012312285760713174, 0.7726014702792978)\n",
      "22(-0.029635533840860626, 0.7915063637661032)\n",
      "23(-0.021509645550151845, 0.7975171416567631)\n",
      "24(0.04583907828686126, 0.8196412284607942)\n",
      "25(-0.03780632076853111, 0.83414597739603)\n",
      "26(0.004450596360426346, 0.8672413604292325)\n",
      "27(0.010621462776841301, 0.8840566519678819)\n",
      "28(-0.003675932927749318, 0.8710780710791041)\n",
      "29(0.02069794868251774, 0.8741758390263926)\n",
      "30(0.017155692683032856, 0.8285079754060548)\n",
      "31(-0.03223978287475282, 0.7858253285985288)\n",
      "32(-0.01672685628336472, 0.7851541701795925)\n",
      "33(-0.01177355868336551, 0.7442397587335003)\n",
      "34(0.08341317322169947, 0.7430194140815966)\n",
      "35(0.01239085453645327, 0.7108050956845394)\n",
      "36(0.03501301886524097, 0.7074952748175533)\n",
      "37(-0.03806221463690122, 0.6778885721008323)\n",
      "38(0.0030501274158355922, 0.6255739144207855)\n",
      "39(0.017334197754030698, 0.6351118799285028)\n",
      "40(0.03736963381286731, 0.6527390066101039)\n",
      "41(-0.009433330421628508, 0.644092305256887)\n",
      "42(-0.004534018170813499, 0.6590220118153394)\n",
      "43(-0.033840013937552156, 0.6158192023198397)\n",
      "44(0.027123544682991843, 0.6140359941030032)\n",
      "45(0.018799074961945227, 0.5772124362015087)\n",
      "46(-0.007139985291806583, 0.5609337670077597)\n",
      "47(-0.0067219855525237834, 0.5839723646262975)\n",
      "48(-0.01629407364654683, 0.5618653936624022)\n",
      "49(0.015171854717270427, 0.5565182546377413)\n",
      "50(0.04815033396463875, 0.5451300010568596)\n",
      "51(0.03050100056537708, 0.5483629324033453)\n",
      "52(-0.008725580175870542, 0.5514342799548403)\n",
      "53(-0.008316415800094533, 0.5121923422134892)\n",
      "54(0.015913749983602166, 0.4926495389466154)\n",
      "55(0.0018424596141504654, 0.48867956273552543)\n",
      "56(-0.0039757374804953866, 0.4877791557585036)\n",
      "57(-0.002239470847852686, 0.48503339756700264)\n",
      "58(-0.035633656153350214, 0.5128148613798347)\n",
      "59(-0.011217707553167172, 0.5111329958085365)\n",
      "60(0.02588399224048846, 0.5188546628996961)\n",
      "61(0.026147433381552444, 0.503271177288371)\n",
      "62(0.0033787410838794244, 0.49416300464682983)\n",
      "63(0.032506106467462166, 0.5064616154492331)\n",
      "64(0.00570845529784245, 0.5232165336280715)\n",
      "65(0.006919895271464228, 0.5131862063677194)\n",
      "66(0.019158829954220354, 0.5148182858470078)\n",
      "67(0.015579711660577936, 0.5193743037595163)\n",
      "68(-0.035964906358267296, 0.5463668353245777)\n",
      "69(-0.02305316518819759, 0.5537113144431324)\n",
      "70(-0.004146916159088259, 0.5474995296395242)\n",
      "71(-0.014459920627979931, 0.5386602255845347)\n",
      "72(0.011101211211655053, 0.526069024429859)\n",
      "73(0.022716821438837045, 0.5175760042997223)\n",
      "74(-0.011350318871217631, 0.5308413288250768)\n",
      "75(0.004821615581217037, 0.5452734831187965)\n",
      "76(0.03208194209457234, 0.5643651540771839)\n",
      "77(0.03547112107379243, 0.5516509677393944)\n",
      "78(0.006597857635853503, 0.5689872468647866)\n",
      "79(-0.0004441905634421029, 0.5839763153691995)\n",
      "80(-0.00979210473126397, 0.5860457692386403)\n",
      "81(-0.013817131832557608, 0.6023113975732592)\n",
      "82(0.005257725699904514, 0.6177049139759274)\n",
      "83(0.01076609234832575, 0.6010766917671123)\n",
      "84(-0.030082859517854325, 0.5908694023153404)\n",
      "85(-0.028011254220876396, 0.5969907564779661)\n",
      "86(0.014433237920046721, 0.6206307163775262)\n",
      "87(0.028018146369854537, 0.6123640756338858)\n",
      "88(0.0191586346888668, 0.6128601821031993)\n",
      "89(0.01804542677063463, 0.6276319469317174)\n",
      "90(0.01233440850635728, 0.6249483008324388)\n",
      "91(-0.007018066297658805, 0.6156931179666747)\n",
      "92(0.028605312639039312, 0.6126534967545654)\n",
      "93(0.036775038418767024, 0.6335662602285347)\n",
      "94(-0.023531886001410287, 0.6841355913216136)\n",
      "95(-0.02929561151266431, 0.6770526254256289)\n",
      "96(-0.0030133839350577466, 0.672973985470688)\n",
      "97(-0.010571582141635389, 0.669441982619752)\n",
      "98(-0.007440869654632106, 0.6718199963675245)\n",
      "99(0.016225570194303117, 0.6841143569460205)\n",
      "100(-0.007496518101728904, 0.682867256363468)\n"
     ]
    }
   ],
   "source": [
    "check_mm_stats(he_normal(512,512), randn(Float32, (512)))"
   ]
  },
  {
   "cell_type": "markdown",
   "metadata": {},
   "source": [
    "We can also test that with a ReLU after each matrix multiplication:"
   ]
  },
  {
   "cell_type": "code",
   "execution_count": 46,
   "metadata": {
    "ExecuteTime": {
     "end_time": "2020-03-02T18:58:23.111000+01:00",
     "start_time": "2020-03-02T17:57:50.654Z"
    }
   },
   "outputs": [
    {
     "data": {
      "text/plain": [
       "check_mm_stats_relu (generic function with 1 method)"
      ]
     },
     "execution_count": 46,
     "metadata": {},
     "output_type": "execute_result"
    }
   ],
   "source": [
    "function check_mm_stats_relu(w,x;n=100)\n",
    "    for i in 1:n\n",
    "        x = w * x # this resembles the matrix multiplication in our linear layer\n",
    "        x = relu_c(x)\n",
    "        println(i, get_stats(x))\n",
    "        if isnan(sum(x)) # a better way to check for NaN in Julia?\n",
    "            break\n",
    "        end\n",
    "    end\n",
    "end"
   ]
  },
  {
   "cell_type": "code",
   "execution_count": 47,
   "metadata": {
    "ExecuteTime": {
     "end_time": "2020-03-02T18:58:23.176000+01:00",
     "start_time": "2020-03-02T17:57:50.659Z"
    },
    "collapsed": true
   },
   "outputs": [
    {
     "name": "stdout",
     "output_type": "stream",
     "text": [
      "1(0.3416252017081806, 0.540076598310794)\n",
      "2(0.2804155352066413, 0.3854349324191724)\n",
      "3(0.18465434935092823, 0.2582271690528979)\n",
      "4(0.13957001597581256, 0.20014044915148343)\n",
      "5(0.09886264971727451, 0.1442685959099948)\n",
      "6(0.0731251549671309, 0.10612856924695935)\n",
      "7(0.05056022076114854, 0.07410406296732527)\n",
      "8(0.03537099215925616, 0.05243103515924084)\n",
      "9(0.02703086724581158, 0.03772932167412195)\n",
      "10(0.019042557243630027, 0.02739192197016558)\n",
      "11(0.013784664278644955, 0.018946384160686877)\n",
      "12(0.009871147524037971, 0.013357376626618456)\n",
      "13(0.006791658064556748, 0.009754233082952103)\n",
      "14(0.004903933999820292, 0.006982795756707133)\n",
      "15(0.0034400848890012493, 0.004695231844630468)\n",
      "16(0.0022877896976704324, 0.003240014825219356)\n",
      "17(0.0016013121013383578, 0.0023100646098956597)\n",
      "18(0.0011342193281117332, 0.0015548544143519434)\n",
      "19(0.0007855623868600321, 0.0010864821387561155)\n",
      "20(0.0005291421908566735, 0.0007492127440402382)\n",
      "21(0.00037799831265795876, 0.0005191928191632235)\n",
      "22(0.0002501942358213617, 0.00035795647840100743)\n",
      "23(0.0001822131026153711, 0.0002570993150348685)\n",
      "24(0.00012835382838398881, 0.00017545460268703447)\n",
      "25(9.140730358725641e-5, 0.00012410572817514627)\n",
      "26(6.358557936678329e-5, 8.855770245889467e-5)\n",
      "27(4.611353314203015e-5, 6.169279668164403e-5)\n",
      "28(3.2422837726024904e-5, 4.3853877357761476e-5)\n",
      "29(2.24557937478178e-5, 3.095110024291219e-5)\n",
      "30(1.603626357230898e-5, 2.180224638408499e-5)\n",
      "31(1.09455333264865e-5, 1.4841930123311607e-5)\n",
      "32(7.6141723934777994e-6, 1.0502846782777448e-5)\n",
      "33(5.28120635953197e-6, 7.350447590918973e-6)\n",
      "34(3.651656659346843e-6, 5.039905644970612e-6)\n",
      "35(2.5558352721845077e-6, 3.5646694452296666e-6)\n",
      "36(1.7825998006754908e-6, 2.5091281599267286e-6)\n",
      "37(1.2662638591196393e-6, 1.7284386157637902e-6)\n",
      "38(9.038083156438142e-7, 1.2327834060773799e-6)\n",
      "39(6.382331453982114e-7, 8.941726307692461e-7)\n",
      "40(4.6640447825899397e-7, 6.453926403618823e-7)\n",
      "41(3.3198557893601926e-7, 4.54629310557296e-7)\n",
      "42(2.287303855084414e-7, 3.234676414929464e-7)\n",
      "43(1.6911793417499025e-7, 2.3096287552122622e-7)\n",
      "44(1.1737903686759636e-7, 1.5747695548489163e-7)\n",
      "45(8.066478568566636e-8, 1.1405899389984094e-7)\n",
      "46(5.828216168026199e-8, 8.22205516096755e-8)\n",
      "47(4.1010610354565084e-8, 5.645670029813392e-8)\n",
      "48(2.833260842315994e-8, 3.969663601595738e-8)\n",
      "49(2.0095810803893224e-8, 2.840196952091015e-8)\n",
      "50(1.4527487824749073e-8, 1.9860679421379855e-8)\n",
      "51(1.0222747008873258e-8, 1.3831374792175825e-8)\n",
      "52(6.99769132809779e-9, 9.827706404666766e-9)\n",
      "53(4.937868072644756e-9, 7.020367230013212e-9)\n",
      "54(3.5787591128941347e-9, 4.8235234455508835e-9)\n",
      "55(2.3690747255895265e-9, 3.3609438299222786e-9)\n",
      "56(1.7009266697883153e-9, 2.4013504874489284e-9)\n",
      "57(1.2019994771804026e-9, 1.6229896022917319e-9)\n",
      "58(8.19673314948335e-10, 1.1488513837439619e-9)\n",
      "59(5.920069027010856e-10, 8.399470964741081e-10)\n",
      "60(4.2420071791927147e-10, 5.744039293940175e-10)\n",
      "61(3.0332804511410347e-10, 4.164403601917709e-10)\n",
      "62(2.1434166256050908e-10, 2.9648606084215124e-10)\n",
      "63(1.5339393123489727e-10, 2.1057182689357285e-10)\n",
      "64(1.0646694539424326e-10, 1.4501233277589448e-10)\n",
      "65(7.232861775437942e-11, 1.0173224308214496e-10)\n",
      "66(5.125428389773833e-11, 7.225328653416737e-11)\n",
      "67(3.589484517082114e-11, 4.8862819604474555e-11)\n",
      "68(2.5271872143833637e-11, 3.5038875104542555e-11)\n",
      "69(1.763207588970759e-11, 2.531085116497276e-11)\n",
      "70(1.264999344657546e-11, 1.7414178303926955e-11)\n",
      "71(9.103856257580417e-12, 1.2216041842527692e-11)\n",
      "72(6.399516006882948e-12, 8.859726495096605e-12)\n",
      "73(4.505011903179292e-12, 6.342599587743189e-12)\n",
      "74(3.305149825965801e-12, 4.40965797995431e-12)\n",
      "75(2.255777894799404e-12, 3.138061355602603e-12)\n",
      "76(1.5826234548044445e-12, 2.2026660425529678e-12)\n",
      "77(1.115236169395418e-12, 1.516163844268774e-12)\n",
      "78(7.631708785422745e-13, 1.0874046577154866e-12)\n",
      "79(5.421894398491476e-13, 7.740741062114131e-13)\n",
      "80(3.798886360464409e-13, 5.154983648094649e-13)\n",
      "81(2.587199111719582e-13, 3.610362340252134e-13)\n",
      "82(1.8596772529647022e-13, 2.596988449199379e-13)\n",
      "83(1.3118208265040331e-13, 1.8035860808952748e-13)\n",
      "84(9.239404913611495e-14, 1.2752506963019658e-13)\n",
      "85(6.534710531588156e-14, 8.929524927302299e-14)\n",
      "86(4.581458131392216e-14, 6.341229631937389e-14)\n",
      "87(3.2095992076253617e-14, 4.3784399662132535e-14)\n",
      "88(2.2189487949048928e-14, 3.045355882333979e-14)\n",
      "89(1.5257596141634472e-14, 2.1735845967338666e-14)\n",
      "90(1.0522600679007462e-14, 1.430304866733371e-14)\n",
      "91(7.3138391228637e-15, 1.0090465280152314e-14)\n",
      "92(5.1178456863937706e-15, 7.309366418155768e-15)\n",
      "93(3.77733594651348e-15, 5.064681089463837e-15)\n",
      "94(2.6884351699523753e-15, 3.70616621139997e-15)\n",
      "95(1.9134471863577894e-15, 2.6276525544351953e-15)\n",
      "96(1.3295232928069808e-15, 1.8553534679677648e-15)\n",
      "97(9.659182646201026e-16, 1.3012037707063958e-15)\n",
      "98(6.579421293492029e-16, 9.219698570696775e-16)\n",
      "99(4.632433784416963e-16, 6.511660437797555e-16)\n",
      "100(3.1966913897188614e-16, 4.3963126988928335e-16)\n"
     ]
    }
   ],
   "source": [
    "check_mm_stats_relu(he_normal(512,512), randn(Float32, (512)))"
   ]
  },
  {
   "cell_type": "markdown",
   "metadata": {},
   "source": [
    "# Loss functions"
   ]
  },
  {
   "cell_type": "markdown",
   "metadata": {},
   "source": [
    "## Loss helper functions"
   ]
  },
  {
   "cell_type": "markdown",
   "metadata": {},
   "source": [
    "### Log-sum-exp (LSE) trick"
   ]
  },
  {
   "cell_type": "markdown",
   "metadata": {},
   "source": [
    "Implementation of the log-sum-exp (LSE) trick for using it in the implementation of a numericale stable NLL loss (see next section)."
   ]
  },
  {
   "cell_type": "code",
   "execution_count": 48,
   "metadata": {
    "ExecuteTime": {
     "end_time": "2020-03-02T18:58:23.177000+01:00",
     "start_time": "2020-03-02T17:57:50.670Z"
    }
   },
   "outputs": [],
   "source": [
    "function lse(x; dims=1)\n",
    "    x_max = maximum(x, dims=dims)\n",
    "    x_max .+ log.(sum(exp.(x .- x_max), dims=dims))\n",
    "end;"
   ]
  },
  {
   "cell_type": "code",
   "execution_count": 49,
   "metadata": {
    "ExecuteTime": {
     "end_time": "2020-03-02T18:58:24.242000+01:00",
     "start_time": "2020-03-02T17:57:50.675Z"
    }
   },
   "outputs": [
    {
     "name": "stdout",
     "output_type": "stream",
     "text": [
      "\u001b[37m\u001b[1mTest Summary:   | \u001b[22m\u001b[39m\u001b[32m\u001b[1mPass  \u001b[22m\u001b[39m\u001b[36m\u001b[1mTotal\u001b[22m\u001b[39m\n",
      "Check LSE trick | \u001b[32m   1  \u001b[39m\u001b[36m    1\u001b[39m\n"
     ]
    }
   ],
   "source": [
    "@testset \"Check LSE trick\" begin\n",
    "    y = atype()(rand(10,60000))\n",
    "    @test lse(y) ≈ log.(sum(exp.(y), dims=1))\n",
    "    end;"
   ]
  },
  {
   "cell_type": "markdown",
   "metadata": {},
   "source": [
    "### Log-softmax"
   ]
  },
  {
   "cell_type": "markdown",
   "metadata": {},
   "source": [
    "In the next step, we can incorporate the LSE trick in our log-softmax implementation, that we will then use in the NLL loss."
   ]
  },
  {
   "cell_type": "code",
   "execution_count": 50,
   "metadata": {
    "ExecuteTime": {
     "end_time": "2020-03-02T18:58:24.243000+01:00",
     "start_time": "2020-03-02T17:57:50.684Z"
    }
   },
   "outputs": [],
   "source": [
    "function logsoftmax_c(x; dims=1)\n",
    "    x .- lse(x; dims=dims)\n",
    "end;"
   ]
  },
  {
   "cell_type": "markdown",
   "metadata": {},
   "source": [
    "For completeness, find below the naive implementation without the LSE trick:"
   ]
  },
  {
   "cell_type": "code",
   "execution_count": 51,
   "metadata": {
    "ExecuteTime": {
     "end_time": "2020-03-02T18:58:24.245000+01:00",
     "start_time": "2020-03-02T17:57:50.691Z"
    }
   },
   "outputs": [],
   "source": [
    "function logsoftmax_c_nolse(x; dims=1)\n",
    "    x .- log.(sum(exp.(x), dims=dims))\n",
    "end;"
   ]
  },
  {
   "cell_type": "code",
   "execution_count": 52,
   "metadata": {
    "ExecuteTime": {
     "end_time": "2020-03-02T18:58:24.286000+01:00",
     "start_time": "2020-03-02T17:57:50.698Z"
    }
   },
   "outputs": [
    {
     "name": "stdout",
     "output_type": "stream",
     "text": [
      "\u001b[37m\u001b[1mTest Summary:     | \u001b[22m\u001b[39m\u001b[32m\u001b[1mPass  \u001b[22m\u001b[39m\u001b[36m\u001b[1mTotal\u001b[22m\u001b[39m\n",
      "Check log-softmax | \u001b[32m   2  \u001b[39m\u001b[36m    2\u001b[39m\n"
     ]
    }
   ],
   "source": [
    "@testset \"Check log-softmax\" begin\n",
    "    y = atype()(rand(10,60000))\n",
    "    @test logsoftmax_c(y) ≈ (y .- log.(sum(exp.(y), dims=1)))\n",
    "    @test logsoftmax_c(y) ≈ logsoftmax_c_nolse(y)\n",
    "end;"
   ]
  },
  {
   "cell_type": "markdown",
   "metadata": {},
   "source": [
    "## Negative log-likelihood (NLL)"
   ]
  },
  {
   "cell_type": "markdown",
   "metadata": {},
   "source": [
    "With the building blocks from above we can put together the NLL loss:"
   ]
  },
  {
   "cell_type": "code",
   "execution_count": 53,
   "metadata": {
    "ExecuteTime": {
     "end_time": "2020-03-02T18:58:24.288000+01:00",
     "start_time": "2020-03-02T17:57:50.706Z"
    }
   },
   "outputs": [],
   "source": [
    "function nll_c(y, preds)\n",
    "    y_int = Int.(y) # because data comes in UInt8\n",
    "    scores = logsoftmax_c(preds)\n",
    "    mean(-scores[y_int[i],i] for i in 1:length(y_int))\n",
    "end;"
   ]
  },
  {
   "cell_type": "markdown",
   "metadata": {},
   "source": [
    "In order to test the NLL implementation, we compare the NLL loss of a random guess for our data to the NLL loss that we get if we predict the same probability fo every classe, i.e., 1/(number of classes), which should be similar because we use a mean aggregation in our NLL loss implementation:"
   ]
  },
  {
   "cell_type": "code",
   "execution_count": 54,
   "metadata": {
    "ExecuteTime": {
     "end_time": "2020-03-02T18:58:24.592000+01:00",
     "start_time": "2020-03-02T17:57:50.712Z"
    }
   },
   "outputs": [
    {
     "data": {
      "text/plain": [
       "2.3025850929940455"
      ]
     },
     "execution_count": 54,
     "metadata": {},
     "output_type": "execute_result"
    }
   ],
   "source": [
    "-log(1/10.)"
   ]
  },
  {
   "cell_type": "code",
   "execution_count": 55,
   "metadata": {
    "ExecuteTime": {
     "end_time": "2020-03-02T18:58:25.148000+01:00",
     "start_time": "2020-03-02T17:57:50.717Z"
    }
   },
   "outputs": [
    {
     "name": "stdout",
     "output_type": "stream",
     "text": [
      "\u001b[37m\u001b[1mTest Summary:  | \u001b[22m\u001b[39m\u001b[32m\u001b[1mPass  \u001b[22m\u001b[39m\u001b[36m\u001b[1mTotal\u001b[22m\u001b[39m\n",
      "Check NLL loss | \u001b[32m   1  \u001b[39m\u001b[36m    1\u001b[39m\n"
     ]
    }
   ],
   "source": [
    "@testset \"Check NLL loss\" begin\n",
    "    @test nll_c(mnist_dl.train.y, atype()(rand(10,60000))) ≈ -log(1/10.) atol=0.05\n",
    "end;"
   ]
  },
  {
   "cell_type": "markdown",
   "metadata": {},
   "source": [
    "# Metrics"
   ]
  },
  {
   "cell_type": "markdown",
   "metadata": {},
   "source": [
    "## Accuracy"
   ]
  },
  {
   "cell_type": "markdown",
   "metadata": {},
   "source": [
    "Next, we implement a acuracy metric to further monitor our training progress:"
   ]
  },
  {
   "cell_type": "code",
   "execution_count": 56,
   "metadata": {
    "ExecuteTime": {
     "end_time": "2020-03-02T18:58:25.149000+01:00",
     "start_time": "2020-03-02T17:57:50.725Z"
    }
   },
   "outputs": [],
   "source": [
    "function acc_c(y, preds)\n",
    "    y_int = Int.(y) # because data comes in UInt8\n",
    "    y_int = reshape(y_int, (1,length(y_int))) # this seems to be necessary?\n",
    "    mean(y_int .== map(i->i[1], argmax(preds, dims=1)))\n",
    "end;"
   ]
  },
  {
   "cell_type": "markdown",
   "metadata": {
    "ExecuteTime": {
     "end_time": "2020-03-01T19:41:05.183000+01:00",
     "start_time": "2020-03-01T18:41:05.169Z"
    }
   },
   "source": [
    "We can test our accuracy metric by comparing again to a random guess and by specific test data."
   ]
  },
  {
   "cell_type": "code",
   "execution_count": 59,
   "metadata": {
    "ExecuteTime": {
     "end_time": "2020-03-02T18:59:09.924000+01:00",
     "start_time": "2020-03-02T17:59:09.866Z"
    }
   },
   "outputs": [
    {
     "name": "stdout",
     "output_type": "stream",
     "text": [
      "\u001b[37m\u001b[1mTest Summary:         | \u001b[22m\u001b[39m\u001b[32m\u001b[1mPass  \u001b[22m\u001b[39m\u001b[36m\u001b[1mTotal\u001b[22m\u001b[39m\n",
      "Check accuracy metric | \u001b[32m   5  \u001b[39m\u001b[36m    5\u001b[39m\n"
     ]
    }
   ],
   "source": [
    "@testset \"Check accuracy metric\" begin\n",
    "    @test acc_c(mnist_dl.train.y, atype()(randn(10,60000))) ≈ 1/10. atol=0.01\n",
    "    @test acc_c([1, 2, 1],[1 0 1;0 1 0]) == 1\n",
    "    @test acc_c([1 2 1],[1 2 1;0 1 2]) == 1/3\n",
    "    @test acc_c([1 2 1],[1 0 1;0 1 2]) == 2/3\n",
    "    @test acc_c([1 2 1],[1 0 1;0 1 0]) == 1\n",
    "end;"
   ]
  },
  {
   "cell_type": "markdown",
   "metadata": {},
   "source": [
    "# Training loop"
   ]
  },
  {
   "cell_type": "markdown",
   "metadata": {},
   "source": [
    "## Minibatch dataloader"
   ]
  },
  {
   "cell_type": "markdown",
   "metadata": {},
   "source": [
    "Here we use the [minibatch function from Knet](https://denizyuret.github.io/Knet.jl/latest/softmax/#MNIST-example-1) to setup our dataloader with a specific batch size (bs):"
   ]
  },
  {
   "cell_type": "code",
   "execution_count": 60,
   "metadata": {
    "ExecuteTime": {
     "end_time": "2020-03-02T18:59:24.689000+01:00",
     "start_time": "2020-03-02T17:59:24.654Z"
    }
   },
   "outputs": [],
   "source": [
    "x_train,y_train,x_valid,y_valid = mnist()\n",
    "bs = 64\n",
    "#mnist_dl_orig_train = minibatch(x_train, y_train, bs, shuffle=true, xtype=atype());\n",
    "#mnist_dl_orig_valid = minibatch(x_valid, y_valid, bs, shuffle=true, xtype=atype());\n",
    "mnist_dl_orig = dataloader(minibatch(x_train, y_train, bs, shuffle=true,  xtype=atype()),\n",
    "                           minibatch(x_valid, y_valid, bs, shuffle=false, xtype=atype()));"
   ]
  },
  {
   "cell_type": "code",
   "execution_count": 61,
   "metadata": {
    "ExecuteTime": {
     "end_time": "2020-03-02T18:59:25.102000+01:00",
     "start_time": "2020-03-02T17:59:25.084Z"
    }
   },
   "outputs": [
    {
     "data": {
      "text/plain": [
       "(\"937-element Knet.Data{Tuple{KnetArray{Float32,4},Array{UInt8,1}}}\", \"156-element Knet.Data{Tuple{KnetArray{Float32,4},Array{UInt8,1}}}\")"
      ]
     },
     "execution_count": 61,
     "metadata": {},
     "output_type": "execute_result"
    }
   ],
   "source": [
    "summary.((mnist_dl_orig.train,mnist_dl_orig.valid))"
   ]
  },
  {
   "cell_type": "markdown",
   "metadata": {},
   "source": [
    "***Code for minibatch dataloader from scratch comes here!***"
   ]
  },
  {
   "cell_type": "markdown",
   "metadata": {},
   "source": [
    "## Optimization loop"
   ]
  },
  {
   "cell_type": "markdown",
   "metadata": {},
   "source": [
    "### Simple stochastic gradient descent (SGD)"
   ]
  },
  {
   "cell_type": "markdown",
   "metadata": {},
   "source": [
    "First, we implement a basic SGD loop for the training data. In order to update our weights we define a learning rate:"
   ]
  },
  {
   "cell_type": "code",
   "execution_count": 126,
   "metadata": {
    "ExecuteTime": {
     "end_time": "2020-03-02T19:25:53.301000+01:00",
     "start_time": "2020-03-02T18:25:53.292Z"
    }
   },
   "outputs": [],
   "source": [
    "lr = 0.5;"
   ]
  },
  {
   "cell_type": "code",
   "execution_count": 136,
   "metadata": {
    "ExecuteTime": {
     "end_time": "2020-03-02T19:27:18.632000+01:00",
     "start_time": "2020-03-02T18:27:18.568Z"
    }
   },
   "outputs": [
    {
     "data": {
      "text/plain": [
       "basic_sgd_loop (generic function with 2 methods)"
      ]
     },
     "execution_count": 136,
     "metadata": {},
     "output_type": "execute_result"
    }
   ],
   "source": [
    "function basic_sgd_loop(epochs=1;model=model_c, data=mnist_dl_orig, lr=lr)\n",
    "    for e in 1:epochs\n",
    "        for (n, (x, y)) in enumerate(data.train)\n",
    "            J = @diff nll_c(y, model(x))\n",
    "            n % 100 == 0 && println(\"epoch: \",e,\", batch: \",n,\", loss: \",value(J))\n",
    "            for p in params(J)\n",
    "                p .-= lr .* grad(J, p)\n",
    "            end\n",
    "        end\n",
    "    end\n",
    "end"
   ]
  },
  {
   "cell_type": "markdown",
   "metadata": {},
   "source": [
    "With our `get_model` function we get a new model which we can use for subsequent training:"
   ]
  },
  {
   "cell_type": "code",
   "execution_count": 159,
   "metadata": {
    "ExecuteTime": {
     "end_time": "2020-03-02T19:36:35.539000+01:00",
     "start_time": "2020-03-02T18:36:35.526Z"
    }
   },
   "outputs": [
    {
     "data": {
      "text/plain": [
       "Chain((flatten, Linear_c(P(KnetArray{Float32,2}(50,784)), P(KnetArray{Float32,1}(50))), relu_c, Linear_c(P(KnetArray{Float32,2}(10,50)), P(KnetArray{Float32,1}(10))), relu_c))"
      ]
     },
     "execution_count": 159,
     "metadata": {},
     "output_type": "execute_result"
    }
   ],
   "source": [
    "model_c = get_model(;init=he_normal)"
   ]
  },
  {
   "cell_type": "code",
   "execution_count": 160,
   "metadata": {
    "ExecuteTime": {
     "end_time": "2020-03-02T19:36:39.225000+01:00",
     "start_time": "2020-03-02T18:36:35.824Z"
    }
   },
   "outputs": [
    {
     "name": "stdout",
     "output_type": "stream",
     "text": [
      "epoch: 1, batch: 100, loss: 0.7908371\n",
      "epoch: 1, batch: 200, loss: 0.5546519\n",
      "epoch: 1, batch: 300, loss: 0.08012933\n",
      "epoch: 1, batch: 400, loss: 0.27340904\n",
      "epoch: 1, batch: 500, loss: 0.22885036\n",
      "epoch: 1, batch: 600, loss: 0.11693973\n",
      "epoch: 1, batch: 700, loss: 0.08952023\n",
      "epoch: 1, batch: 800, loss: 0.22877154\n",
      "epoch: 1, batch: 900, loss: 0.26514804\n"
     ]
    }
   ],
   "source": [
    "basic_sgd_loop()"
   ]
  },
  {
   "cell_type": "markdown",
   "metadata": {},
   "source": [
    "Our results look reasonable as the loss is decreasing during training!"
   ]
  },
  {
   "cell_type": "markdown",
   "metadata": {},
   "source": [
    "### SGD with validation"
   ]
  },
  {
   "cell_type": "markdown",
   "metadata": {},
   "source": [
    "Next, we will add our validation data and calculate its loss and accuaracy too, to better monitor our training progress:"
   ]
  },
  {
   "cell_type": "code",
   "execution_count": 234,
   "metadata": {
    "ExecuteTime": {
     "end_time": "2020-03-03T20:49:20.230000+01:00",
     "start_time": "2020-03-03T19:49:20.185Z"
    }
   },
   "outputs": [],
   "source": [
    "function sgd_loop(epochs=1;model=model_c, data=mnist_dl_orig, lr=lr)\n",
    "    for e in 1:epochs\n",
    "        \n",
    "        # train loop\n",
    "        n_samples_train = 0\n",
    "        n_loss_train = 0\n",
    "        for (n, (x, y)) in enumerate(data.train)\n",
    "            J = @diff nll_c(y, model(x))\n",
    "            n_samples_train += length(y)\n",
    "            n_loss_train += value(J) * length(y)\n",
    "            for p in params(J)\n",
    "                p .-= lr .* grad(J, p)\n",
    "            end\n",
    "        end\n",
    "\n",
    "        # valid loop\n",
    "        n_samples_valid = 0\n",
    "        n_loss_valid = 0\n",
    "        n_acc_valid = 0\n",
    "        for (n, (x, y)) in enumerate(data.valid)\n",
    "            n_samples_valid += length(y)\n",
    "            n_loss_valid += nll_c(y, model(x)) * length(y)\n",
    "            n_acc_valid += acc_c(y, model(x)) * length(y)\n",
    "        end\n",
    "        println(\"epoch: \",e,\n",
    "                \", train loss: \",round(n_loss_train/n_samples_train, digits=3),\n",
    "                \", valid loss: \",round(n_loss_valid/n_samples_valid, digits=3),\n",
    "                \", valid acc: \",round(n_acc_valid/n_samples_valid, digits=3))\n",
    "    end\n",
    "end;"
   ]
  },
  {
   "cell_type": "code",
   "execution_count": 161,
   "metadata": {
    "ExecuteTime": {
     "end_time": "2020-03-02T19:36:46.792000+01:00",
     "start_time": "2020-03-02T18:36:46.775Z"
    }
   },
   "outputs": [
    {
     "data": {
      "text/plain": [
       "Chain((flatten, Linear_c(P(KnetArray{Float32,2}(50,784)), P(KnetArray{Float32,1}(50))), relu_c, Linear_c(P(KnetArray{Float32,2}(10,50)), P(KnetArray{Float32,1}(10))), relu_c))"
      ]
     },
     "execution_count": 161,
     "metadata": {},
     "output_type": "execute_result"
    }
   ],
   "source": [
    "model_c = get_model(;init=he_normal)"
   ]
  },
  {
   "cell_type": "code",
   "execution_count": 162,
   "metadata": {
    "ExecuteTime": {
     "end_time": "2020-03-02T19:37:04.450000+01:00",
     "start_time": "2020-03-02T18:36:47.077Z"
    }
   },
   "outputs": [
    {
     "name": "stdout",
     "output_type": "stream",
     "text": [
      "epoch: 1, train loss: 0.311, valid loss: 0.15, valid acc: 0.952\n",
      "epoch: 2, train loss: 0.136, valid loss: 0.142, valid acc: 0.957\n",
      "epoch: 3, train loss: 0.107, valid loss: 0.119, valid acc: 0.964\n",
      "epoch: 4, train loss: 0.088, valid loss: 0.106, valid acc: 0.971\n",
      "epoch: 5, train loss: 0.075, valid loss: 0.107, valid acc: 0.969\n"
     ]
    }
   ],
   "source": [
    "sgd_loop(5)"
   ]
  },
  {
   "cell_type": "markdown",
   "metadata": {},
   "source": [
    "Our training and validation loss is goind down and accuracy is going up, therefore, our training looks good!"
   ]
  },
  {
   "cell_type": "markdown",
   "metadata": {},
   "source": [
    "### Other optimizers"
   ]
  },
  {
   "cell_type": "code",
   "execution_count": 229,
   "metadata": {
    "ExecuteTime": {
     "end_time": "2020-03-03T20:48:59.188000+01:00",
     "start_time": "2020-03-03T19:48:59.178Z"
    }
   },
   "outputs": [],
   "source": [
    "function add_opt(model, opt)\n",
    "    for p in params(model)\n",
    "        p.opt = opt\n",
    "    end\n",
    "    return model\n",
    "end;"
   ]
  },
  {
   "cell_type": "code",
   "execution_count": 249,
   "metadata": {
    "ExecuteTime": {
     "end_time": "2020-03-03T20:51:45.683000+01:00",
     "start_time": "2020-03-03T19:51:45.665Z"
    }
   },
   "outputs": [],
   "source": [
    "function get_model_opt(;init=xavier_normal, opt=SGD(lr=0.5))\n",
    "    model = Chain(flatten, Linear_c(784,50;init=init), relu_c, Linear_c(50,10;init=init), relu_c)\n",
    "    add_opt(model, opt) # add optimizer to model layers\n",
    "    return model\n",
    "end;"
   ]
  },
  {
   "cell_type": "code",
   "execution_count": 303,
   "metadata": {
    "ExecuteTime": {
     "end_time": "2020-03-03T21:07:37.866000+01:00",
     "start_time": "2020-03-03T20:07:37.849Z"
    }
   },
   "outputs": [],
   "source": [
    "function fit(epochs=1;model=model_c_opt, data=mnist_dl_orig, lr=lr)\n",
    "    for e in 1:epochs\n",
    "        \n",
    "        # train loop\n",
    "        n_samples_train = 0\n",
    "        n_loss_train = 0\n",
    "        for (n, (x, y)) in enumerate(data.train)\n",
    "            J = @diff nll_c(y, model(x))\n",
    "            n_samples_train += length(y)\n",
    "            n_loss_train += value(J) * length(y)\n",
    "            #update!(model, J)\n",
    "            for p in params(model)\n",
    "                p .-= lr .* grad(J, p)\n",
    "            end\n",
    "        end\n",
    "\n",
    "        # valid loop\n",
    "        n_samples_valid = 0\n",
    "        n_loss_valid = 0\n",
    "        n_acc_valid = 0\n",
    "        for (n, (x, y)) in enumerate(data.valid)\n",
    "            n_samples_valid += length(y)\n",
    "            n_loss_valid += nll_c(y, model(x)) * length(y)\n",
    "            n_acc_valid += acc_c(y, model(x)) * length(y)\n",
    "        end\n",
    "        println(\"epoch: \",e,\n",
    "                \", train loss: \",round(n_loss_train/n_samples_train, digits=3),\n",
    "                \", valid loss: \",round(n_loss_valid/n_samples_valid, digits=3),\n",
    "                \", valid acc: \",round(n_acc_valid/n_samples_valid, digits=3))\n",
    "    end\n",
    "end;"
   ]
  },
  {
   "cell_type": "markdown",
   "metadata": {},
   "source": [
    "First, we check our new model and optimizer setup with our new fit training loop:"
   ]
  },
  {
   "cell_type": "code",
   "execution_count": 304,
   "metadata": {
    "ExecuteTime": {
     "end_time": "2020-03-03T21:07:38.327000+01:00",
     "start_time": "2020-03-03T20:07:38.315Z"
    }
   },
   "outputs": [
    {
     "data": {
      "text/plain": [
       "Chain((flatten, Linear_c(P(KnetArray{Float32,2}(50,784)), P(KnetArray{Float32,1}(50))), relu_c, Linear_c(P(KnetArray{Float32,2}(10,50)), P(KnetArray{Float32,1}(10))), relu_c))"
      ]
     },
     "execution_count": 304,
     "metadata": {},
     "output_type": "execute_result"
    }
   ],
   "source": [
    "model_c_opt = get_model_opt()"
   ]
  },
  {
   "cell_type": "code",
   "execution_count": 305,
   "metadata": {
    "ExecuteTime": {
     "end_time": "2020-03-03T21:07:38.635000+01:00",
     "start_time": "2020-03-03T20:07:38.622Z"
    }
   },
   "outputs": [
    {
     "data": {
      "text/plain": [
       "\u001b[32m\u001b[1mTest Passed\u001b[22m\u001b[39m"
      ]
     },
     "execution_count": 305,
     "metadata": {},
     "output_type": "execute_result"
    }
   ],
   "source": [
    "@test typeof(model_c_opt.layers[2].w.opt) == typeof(SGD())"
   ]
  },
  {
   "cell_type": "code",
   "execution_count": 306,
   "metadata": {
    "ExecuteTime": {
     "end_time": "2020-03-03T21:07:54.855000+01:00",
     "start_time": "2020-03-03T20:07:38.831Z"
    }
   },
   "outputs": [
    {
     "name": "stdout",
     "output_type": "stream",
     "text": [
      "epoch: 1, train loss: 0.495, valid loss: 0.199, valid acc: 0.937\n",
      "epoch: 2, train loss: 0.157, valid loss: 0.146, valid acc: 0.955\n",
      "epoch: 3, train loss: 0.117, valid loss: 0.124, valid acc: 0.96\n",
      "epoch: 4, train loss: 0.095, valid loss: 0.122, valid acc: 0.962\n",
      "epoch: 5, train loss: 0.082, valid loss: 0.124, valid acc: 0.962\n"
     ]
    }
   ],
   "source": [
    "fit(5)"
   ]
  },
  {
   "cell_type": "markdown",
   "metadata": {},
   "source": [
    "Now we can try the same but with the Adam optimizer:"
   ]
  },
  {
   "cell_type": "code",
   "execution_count": 307,
   "metadata": {
    "ExecuteTime": {
     "end_time": "2020-03-03T21:07:54.857000+01:00",
     "start_time": "2020-03-03T20:07:40.432Z"
    }
   },
   "outputs": [
    {
     "data": {
      "text/plain": [
       "Chain((flatten, Linear_c(P(KnetArray{Float32,2}(50,784)), P(KnetArray{Float32,1}(50))), relu_c, Linear_c(P(KnetArray{Float32,2}(10,50)), P(KnetArray{Float32,1}(10))), relu_c))"
      ]
     },
     "execution_count": 307,
     "metadata": {},
     "output_type": "execute_result"
    }
   ],
   "source": [
    "model_c_opt = get_model_opt(;opt=Adam())"
   ]
  },
  {
   "cell_type": "code",
   "execution_count": 308,
   "metadata": {
    "ExecuteTime": {
     "end_time": "2020-03-03T21:07:54.858000+01:00",
     "start_time": "2020-03-03T20:07:41.151Z"
    }
   },
   "outputs": [
    {
     "data": {
      "text/plain": [
       "\u001b[32m\u001b[1mTest Passed\u001b[22m\u001b[39m"
      ]
     },
     "execution_count": 308,
     "metadata": {},
     "output_type": "execute_result"
    }
   ],
   "source": [
    "@test typeof(model_c_opt.layers[2].w.opt) == typeof(Adam())"
   ]
  },
  {
   "cell_type": "code",
   "execution_count": 309,
   "metadata": {
    "ExecuteTime": {
     "end_time": "2020-03-03T21:08:10.852000+01:00",
     "start_time": "2020-03-03T20:07:41.847Z"
    }
   },
   "outputs": [
    {
     "name": "stdout",
     "output_type": "stream",
     "text": [
      "epoch: 1, train loss: 0.41, valid loss: 0.199, valid acc: 0.937\n",
      "epoch: 2, train loss: 0.159, valid loss: 0.147, valid acc: 0.955\n",
      "epoch: 3, train loss: 0.122, valid loss: 0.131, valid acc: 0.961\n",
      "epoch: 4, train loss: 0.101, valid loss: 0.122, valid acc: 0.964\n",
      "epoch: 5, train loss: 0.087, valid loss: 0.116, valid acc: 0.967\n"
     ]
    }
   ],
   "source": [
    "fit(5)"
   ]
  },
  {
   "cell_type": "markdown",
   "metadata": {},
   "source": [
    "This looks also fine!"
   ]
  },
  {
   "cell_type": "markdown",
   "metadata": {},
   "source": [
    "#### With data normalization"
   ]
  },
  {
   "cell_type": "markdown",
   "metadata": {},
   "source": [
    "However, data normalization seems to be not beneficial in this case:"
   ]
  },
  {
   "cell_type": "code",
   "execution_count": 310,
   "metadata": {
    "ExecuteTime": {
     "end_time": "2020-03-03T21:08:35.132000+01:00",
     "start_time": "2020-03-03T20:08:35.117Z"
    }
   },
   "outputs": [],
   "source": [
    "function fit(epochs=1;model=model_c_opt, data=mnist_dl_orig, lr=lr)\n",
    "    for e in 1:epochs\n",
    "        \n",
    "        # train loop\n",
    "        n_samples_train = 0\n",
    "        n_loss_train = 0\n",
    "        for (n, (x, y)) in enumerate(data.train)\n",
    "            J = @diff nll_c(y, model(normalize(x, train_ds_mean, train_ds_std)))\n",
    "            n_samples_train += length(y)\n",
    "            n_loss_train += value(J) * length(y)\n",
    "            #update!(model, J)\n",
    "            for p in params(model)\n",
    "                p .-= lr .* grad(J, p)\n",
    "            end\n",
    "        end\n",
    "\n",
    "        # valid loop\n",
    "        n_samples_valid = 0\n",
    "        n_loss_valid = 0\n",
    "        n_acc_valid = 0\n",
    "        for (n, (x, y)) in enumerate(data.valid)\n",
    "            n_samples_valid += length(y)\n",
    "            n_loss_valid += nll_c(y, model(x)) * length(y)\n",
    "            n_acc_valid += acc_c(y, model(x)) * length(y)\n",
    "        end\n",
    "        println(\"epoch: \",e,\n",
    "                \", train loss: \",round(n_loss_train/n_samples_train, digits=3),\n",
    "                \", valid loss: \",round(n_loss_valid/n_samples_valid, digits=3),\n",
    "                \", valid acc: \",round(n_acc_valid/n_samples_valid, digits=3))\n",
    "    end\n",
    "end;"
   ]
  },
  {
   "cell_type": "code",
   "execution_count": 311,
   "metadata": {
    "ExecuteTime": {
     "end_time": "2020-03-03T21:08:36.156000+01:00",
     "start_time": "2020-03-03T20:08:36.123Z"
    }
   },
   "outputs": [
    {
     "data": {
      "text/plain": [
       "Chain((flatten, Linear_c(P(KnetArray{Float32,2}(50,784)), P(KnetArray{Float32,1}(50))), relu_c, Linear_c(P(KnetArray{Float32,2}(10,50)), P(KnetArray{Float32,1}(10))), relu_c))"
      ]
     },
     "execution_count": 311,
     "metadata": {},
     "output_type": "execute_result"
    }
   ],
   "source": [
    "model_c_opt = get_model_opt(;opt=Adam())"
   ]
  },
  {
   "cell_type": "code",
   "execution_count": 312,
   "metadata": {
    "ExecuteTime": {
     "end_time": "2020-03-03T21:08:53.005000+01:00",
     "start_time": "2020-03-03T20:08:36.732Z"
    }
   },
   "outputs": [
    {
     "name": "stdout",
     "output_type": "stream",
     "text": [
      "epoch: 1, train loss: 0.841, valid loss: 1.0, valid acc: 0.768\n",
      "epoch: 2, train loss: 0.369, valid loss: 0.733, valid acc: 0.869\n",
      "epoch: 3, train loss: 0.245, valid loss: 1.306, valid acc: 0.48\n",
      "epoch: 4, train loss: 0.202, valid loss: 1.365, valid acc: 0.489\n",
      "epoch: 5, train loss: 0.175, valid loss: 1.243, valid acc: 0.532\n"
     ]
    }
   ],
   "source": [
    "fit(5)"
   ]
  }
 ],
 "metadata": {
  "kernelspec": {
   "display_name": "Julia 1.0.5",
   "language": "julia",
   "name": "julia-1.0"
  },
  "language_info": {
   "file_extension": ".jl",
   "mimetype": "application/julia",
   "name": "julia",
   "version": "1.0.5"
  },
  "toc": {
   "base_numbering": 1,
   "nav_menu": {},
   "number_sections": true,
   "sideBar": true,
   "skip_h1_title": false,
   "title_cell": "Table of Contents",
   "title_sidebar": "Contents",
   "toc_cell": false,
   "toc_position": {},
   "toc_section_display": true,
   "toc_window_display": true
  }
 },
 "nbformat": 4,
 "nbformat_minor": 2
}
