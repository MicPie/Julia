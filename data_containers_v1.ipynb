{
 "cells": [
  {
   "cell_type": "markdown",
   "metadata": {},
   "source": [
    "# Introduction"
   ]
  },
  {
   "cell_type": "markdown",
   "metadata": {},
   "source": [
    "Experimental data containers that enable different training, validation, and test `DataSet`s to be combined in a `DataLoaders` wrapper for iteration."
   ]
  },
  {
   "cell_type": "markdown",
   "metadata": {},
   "source": [
    "# DataSet"
   ]
  },
  {
   "cell_type": "markdown",
   "metadata": {
    "ExecuteTime": {
     "end_time": "2020-03-17T13:37:28.962000+01:00",
     "start_time": "2020-03-17T12:37:28.015Z"
    }
   },
   "source": [
    "Simple data set structure to hold training, validation, and test data."
   ]
  },
  {
   "cell_type": "code",
   "execution_count": 1,
   "metadata": {
    "ExecuteTime": {
     "end_time": "2020-03-17T14:01:12.321000+01:00",
     "start_time": "2020-03-17T13:01:07.043Z"
    }
   },
   "outputs": [],
   "source": [
    "abstract type DataSet end"
   ]
  },
  {
   "cell_type": "code",
   "execution_count": 2,
   "metadata": {
    "ExecuteTime": {
     "end_time": "2020-03-17T14:01:12.396000+01:00",
     "start_time": "2020-03-17T13:01:07.046Z"
    }
   },
   "outputs": [],
   "source": [
    "struct TrainDataSet<:DataSet\n",
    "    x\n",
    "    y\n",
    "end"
   ]
  },
  {
   "cell_type": "code",
   "execution_count": 3,
   "metadata": {
    "ExecuteTime": {
     "end_time": "2020-03-17T14:01:12.397000+01:00",
     "start_time": "2020-03-17T13:01:07.048Z"
    }
   },
   "outputs": [],
   "source": [
    "struct ValidDataSet<:DataSet\n",
    "    x\n",
    "    y\n",
    "end"
   ]
  },
  {
   "cell_type": "code",
   "execution_count": 4,
   "metadata": {
    "ExecuteTime": {
     "end_time": "2020-03-17T14:01:12.398000+01:00",
     "start_time": "2020-03-17T13:01:07.050Z"
    }
   },
   "outputs": [],
   "source": [
    "struct TestDataSet<:DataSet\n",
    "    x\n",
    "    y\n",
    "end"
   ]
  },
  {
   "cell_type": "code",
   "execution_count": 5,
   "metadata": {
    "ExecuteTime": {
     "end_time": "2020-03-17T14:01:13.408000+01:00",
     "start_time": "2020-03-17T13:01:07.052Z"
    }
   },
   "outputs": [
    {
     "data": {
      "text/plain": [
       "3-element Array{Any,1}:\n",
       " TestDataSet \n",
       " TrainDataSet\n",
       " ValidDataSet"
      ]
     },
     "execution_count": 5,
     "metadata": {},
     "output_type": "execute_result"
    }
   ],
   "source": [
    "subtypes(DataSet)"
   ]
  },
  {
   "cell_type": "markdown",
   "metadata": {},
   "source": [
    "# DataLoaders"
   ]
  },
  {
   "cell_type": "code",
   "execution_count": 6,
   "metadata": {
    "ExecuteTime": {
     "end_time": "2020-03-17T14:01:13.429000+01:00",
     "start_time": "2020-03-17T13:01:07.053Z"
    }
   },
   "outputs": [],
   "source": [
    "mutable struct DataLoaders\n",
    "    ds #::DataSet does not work?\n",
    "    # use additional flags, e.g., turn on/off specific datasets?\n",
    "    DataLoaders(ds...) = new(ds)\n",
    "end"
   ]
  },
  {
   "cell_type": "code",
   "execution_count": 7,
   "metadata": {
    "ExecuteTime": {
     "end_time": "2020-03-17T14:01:13.436000+01:00",
     "start_time": "2020-03-17T13:01:07.055Z"
    }
   },
   "outputs": [],
   "source": [
    "# From https://github.com/denizyuret/Knet.jl/blob/master/tutorial/25.iterators.ipynb\n",
    "function Base.iterate(dls::DataLoaders, s...)\n",
    "    next = iterate(dls.ds, s...)\n",
    "    next === nothing && return nothing\n",
    "    (d,state) = next\n",
    "    return d, state\n",
    "end\n",
    "\n",
    "Base.length(dls::DataLoaders) = length(dls.ds) # collect needs this"
   ]
  },
  {
   "cell_type": "code",
   "execution_count": 8,
   "metadata": {
    "ExecuteTime": {
     "end_time": "2020-03-17T14:01:13.436000+01:00",
     "start_time": "2020-03-17T13:01:07.057Z"
    }
   },
   "outputs": [],
   "source": [
    "#(dl::DataLoaders)(x) = (for d in dl.datasets; summary(d); end)"
   ]
  },
  {
   "cell_type": "code",
   "execution_count": 9,
   "metadata": {
    "ExecuteTime": {
     "end_time": "2020-03-17T14:01:13.436000+01:00",
     "start_time": "2020-03-17T13:01:07.059Z"
    }
   },
   "outputs": [],
   "source": [
    "#(dl::DataLoaders) = (d for d in dl.datasets)"
   ]
  },
  {
   "cell_type": "markdown",
   "metadata": {},
   "source": [
    "# Test"
   ]
  },
  {
   "cell_type": "markdown",
   "metadata": {},
   "source": [
    "## Creation"
   ]
  },
  {
   "cell_type": "code",
   "execution_count": 10,
   "metadata": {
    "ExecuteTime": {
     "end_time": "2020-03-17T14:01:13.775000+01:00",
     "start_time": "2020-03-17T13:01:07.062Z"
    }
   },
   "outputs": [
    {
     "data": {
      "text/plain": [
       "TestDataSet([17.0, 18.0], [19.0, 20.0])"
      ]
     },
     "execution_count": 10,
     "metadata": {},
     "output_type": "execute_result"
    }
   ],
   "source": [
    "fold1 = TrainDataSet([1.,2.],[3.,4.])\n",
    "fold2 = TrainDataSet([5.,6.],[7.,8.])\n",
    "fold3 = TrainDataSet([9.,10.],[11.,12.])\n",
    "valid = ValidDataSet([13.,14.],[15.,16.])\n",
    "test = TestDataSet([17.,18.],[19.,20.])"
   ]
  },
  {
   "cell_type": "code",
   "execution_count": 11,
   "metadata": {
    "ExecuteTime": {
     "end_time": "2020-03-17T14:01:14.026000+01:00",
     "start_time": "2020-03-17T13:01:07.063Z"
    }
   },
   "outputs": [
    {
     "data": {
      "text/plain": [
       "DataLoaders((TrainDataSet([1.0, 2.0], [3.0, 4.0]), TrainDataSet([5.0, 6.0], [7.0, 8.0]), TrainDataSet([9.0, 10.0], [11.0, 12.0]), ValidDataSet([13.0, 14.0], [15.0, 16.0]), TestDataSet([17.0, 18.0], [19.0, 20.0])))"
      ]
     },
     "execution_count": 11,
     "metadata": {},
     "output_type": "execute_result"
    }
   ],
   "source": [
    "dls = DataLoaders(fold1, fold2, fold3, valid, test)"
   ]
  },
  {
   "cell_type": "code",
   "execution_count": 12,
   "metadata": {
    "ExecuteTime": {
     "end_time": "2020-03-17T14:01:14.031000+01:00",
     "start_time": "2020-03-17T13:01:07.065Z"
    }
   },
   "outputs": [
    {
     "data": {
      "text/plain": [
       "DataLoaders((TrainDataSet([1.0, 2.0], [3.0, 4.0]), TrainDataSet([5.0, 6.0], [7.0, 8.0]), TrainDataSet([9.0, 10.0], [11.0, 12.0]), ValidDataSet([13.0, 14.0], [15.0, 16.0]), TestDataSet([17.0, 18.0], [19.0, 20.0])))"
      ]
     },
     "execution_count": 12,
     "metadata": {},
     "output_type": "execute_result"
    }
   ],
   "source": [
    "dls"
   ]
  },
  {
   "cell_type": "code",
   "execution_count": 13,
   "metadata": {
    "ExecuteTime": {
     "end_time": "2020-03-17T14:01:14.256000+01:00",
     "start_time": "2020-03-17T13:01:07.067Z"
    }
   },
   "outputs": [
    {
     "data": {
      "text/plain": [
       "(TrainDataSet([1.0, 2.0], [3.0, 4.0]), TrainDataSet([5.0, 6.0], [7.0, 8.0]), TrainDataSet([9.0, 10.0], [11.0, 12.0]), ValidDataSet([13.0, 14.0], [15.0, 16.0]), TestDataSet([17.0, 18.0], [19.0, 20.0]))"
      ]
     },
     "execution_count": 13,
     "metadata": {},
     "output_type": "execute_result"
    }
   ],
   "source": [
    "dls.ds"
   ]
  },
  {
   "cell_type": "code",
   "execution_count": 14,
   "metadata": {
    "ExecuteTime": {
     "end_time": "2020-03-17T14:01:14.521000+01:00",
     "start_time": "2020-03-17T13:01:07.069Z"
    }
   },
   "outputs": [
    {
     "data": {
      "text/plain": [
       "(5, 5)"
      ]
     },
     "execution_count": 14,
     "metadata": {},
     "output_type": "execute_result"
    }
   ],
   "source": [
    "length(dls), length(dls.ds)"
   ]
  },
  {
   "cell_type": "code",
   "execution_count": 15,
   "metadata": {
    "ExecuteTime": {
     "end_time": "2020-03-17T14:01:14.610000+01:00",
     "start_time": "2020-03-17T13:01:07.072Z"
    }
   },
   "outputs": [
    {
     "data": {
      "text/plain": [
       "5-element Array{Any,1}:\n",
       " TrainDataSet([1.0, 2.0], [3.0, 4.0])    \n",
       " TrainDataSet([5.0, 6.0], [7.0, 8.0])    \n",
       " TrainDataSet([9.0, 10.0], [11.0, 12.0]) \n",
       " ValidDataSet([13.0, 14.0], [15.0, 16.0])\n",
       " TestDataSet([17.0, 18.0], [19.0, 20.0]) "
      ]
     },
     "execution_count": 15,
     "metadata": {},
     "output_type": "execute_result"
    }
   ],
   "source": [
    "collect(dls)"
   ]
  },
  {
   "cell_type": "markdown",
   "metadata": {},
   "source": [
    "## Iteration"
   ]
  },
  {
   "cell_type": "code",
   "execution_count": 16,
   "metadata": {
    "ExecuteTime": {
     "end_time": "2020-03-17T14:01:15.162000+01:00",
     "start_time": "2020-03-17T13:01:07.074Z"
    }
   },
   "outputs": [
    {
     "data": {
      "text/html": [
       "iterate(dls::<b>DataLoaders</b>, s...) in Main at In[7]:3"
      ],
      "text/plain": [
       "iterate(dls::DataLoaders, s...) in Main at In[7]:3"
      ]
     },
     "execution_count": 16,
     "metadata": {},
     "output_type": "execute_result"
    }
   ],
   "source": [
    "@which iterate(dls)"
   ]
  },
  {
   "cell_type": "code",
   "execution_count": 17,
   "metadata": {
    "ExecuteTime": {
     "end_time": "2020-03-17T14:01:15.497000+01:00",
     "start_time": "2020-03-17T13:01:07.076Z"
    }
   },
   "outputs": [
    {
     "name": "stdout",
     "output_type": "stream",
     "text": [
      "TrainDataSet([1.0, 2.0], [3.0, 4.0])\n",
      "TrainDataSet([5.0, 6.0], [7.0, 8.0])\n",
      "TrainDataSet([9.0, 10.0], [11.0, 12.0])\n",
      "ValidDataSet([13.0, 14.0], [15.0, 16.0])\n",
      "TestDataSet([17.0, 18.0], [19.0, 20.0])\n"
     ]
    }
   ],
   "source": [
    "for d in dls\n",
    "    println(d)\n",
    "end"
   ]
  },
  {
   "cell_type": "code",
   "execution_count": 18,
   "metadata": {
    "ExecuteTime": {
     "end_time": "2020-03-17T14:01:16.014000+01:00",
     "start_time": "2020-03-17T13:01:07.078Z"
    }
   },
   "outputs": [
    {
     "data": {
      "text/plain": [
       "5-element Array{DataType,1}:\n",
       " TrainDataSet\n",
       " TrainDataSet\n",
       " TrainDataSet\n",
       " ValidDataSet\n",
       " TestDataSet "
      ]
     },
     "execution_count": 18,
     "metadata": {},
     "output_type": "execute_result"
    }
   ],
   "source": [
    "[typeof(d) for d in dls]"
   ]
  },
  {
   "cell_type": "code",
   "execution_count": 21,
   "metadata": {
    "ExecuteTime": {
     "end_time": "2020-03-17T14:01:58.473000+01:00",
     "start_time": "2020-03-17T13:01:58.423Z"
    }
   },
   "outputs": [
    {
     "data": {
      "text/plain": [
       "3-element Array{DataType,1}:\n",
       " TrainDataSet\n",
       " TrainDataSet\n",
       " TrainDataSet"
      ]
     },
     "execution_count": 21,
     "metadata": {},
     "output_type": "execute_result"
    }
   ],
   "source": [
    "[typeof(d) for d in dls if isa(d,TrainDataSet)]"
   ]
  },
  {
   "cell_type": "code",
   "execution_count": 19,
   "metadata": {
    "ExecuteTime": {
     "end_time": "2020-03-17T14:01:16.259000+01:00",
     "start_time": "2020-03-17T13:01:07.080Z"
    }
   },
   "outputs": [
    {
     "data": {
      "text/plain": [
       "fit (generic function with 3 methods)"
      ]
     },
     "execution_count": 19,
     "metadata": {},
     "output_type": "execute_result"
    }
   ],
   "source": [
    "function fit(d::TrainDataSet)\n",
    "    println(\"Train!\")\n",
    "end\n",
    "\n",
    "function fit(d::ValidDataSet)\n",
    "    println(\"Valid!\")\n",
    "end\n",
    "\n",
    "function fit(d::TestDataSet)\n",
    "    println(\"Test!\")\n",
    "end"
   ]
  },
  {
   "cell_type": "code",
   "execution_count": 20,
   "metadata": {
    "ExecuteTime": {
     "end_time": "2020-03-17T14:01:16.325000+01:00",
     "start_time": "2020-03-17T13:01:07.083Z"
    }
   },
   "outputs": [
    {
     "name": "stdout",
     "output_type": "stream",
     "text": [
      "Train!\n",
      "Train!\n",
      "Train!\n",
      "Valid!\n",
      "Test!\n"
     ]
    }
   ],
   "source": [
    "[fit(d) for d in dls];"
   ]
  },
  {
   "cell_type": "code",
   "execution_count": null,
   "metadata": {},
   "outputs": [],
   "source": []
  }
 ],
 "metadata": {
  "kernelspec": {
   "display_name": "Julia 1.0.5",
   "language": "julia",
   "name": "julia-1.0"
  },
  "language_info": {
   "file_extension": ".jl",
   "mimetype": "application/julia",
   "name": "julia",
   "version": "1.0.5"
  },
  "toc": {
   "base_numbering": 1,
   "nav_menu": {},
   "number_sections": true,
   "sideBar": true,
   "skip_h1_title": false,
   "title_cell": "Table of Contents",
   "title_sidebar": "Contents",
   "toc_cell": false,
   "toc_position": {},
   "toc_section_display": true,
   "toc_window_display": true
  }
 },
 "nbformat": 4,
 "nbformat_minor": 2
}
